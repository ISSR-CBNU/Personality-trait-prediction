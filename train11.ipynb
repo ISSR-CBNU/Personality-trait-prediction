{
 "cells": [
  {
   "cell_type": "markdown",
   "metadata": {},
   "source": [
    "# VideoMAE / 15 Frame / 224 224 3 / R2plu1d Backbone / masking ratio = 0.75 / embed_dim = 96"
   ]
  },
  {
   "cell_type": "code",
   "execution_count": 1,
   "metadata": {},
   "outputs": [],
   "source": [
    "import librosa\n",
    "import librosa.display\n",
    "import numpy as np\n",
    "import pandas as pd\n",
    "import os\n",
    "from typing import List, Tuple, Dict\n",
    "import matplotlib.pyplot as plt\n",
    "import random\n",
    "import cv2\n",
    "import pickle\n",
    "import torch.nn as nn\n",
    "import torch\n",
    "import datetime\n",
    "import torch.nn.functional as F\n",
    "import torchvision.models as models\n",
    "from torchvision import transforms, utils, models\n",
    "from torch.utils.data import Dataset, DataLoader\n",
    "import logging\n",
    "import torch\n",
    "import torch.nn as nn\n",
    "from einops import rearrange, reduce\n",
    "from tqdm import tqdm\n",
    "import gc\n",
    "import copy\n",
    "\n",
    "# 사용하고자 하는 model\n",
    "from models_mae_R2plus1D import MaskedAutoencoderViT\n",
    "\n",
    "logger = logging.getLogger(__name__)\n",
    "logger.setLevel(logging.DEBUG)\n",
    "formatter = logging.Formatter('[%(asctime)s]::%(module)s::%(levelname)s::%(message)s')\n",
    "streamHandler = logging.StreamHandler()\n",
    "streamHandler.setFormatter(formatter)\n",
    "fileHandler = logging.FileHandler('./LOG/experiments11.log')\n",
    "fileHandler.setFormatter(formatter)\n",
    "logger.addHandler(streamHandler)\n",
    "logger.addHandler(fileHandler)"
   ]
  },
  {
   "cell_type": "code",
   "execution_count": 2,
   "metadata": {},
   "outputs": [],
   "source": [
    "batchsz = 8\n",
    "num_workers = 4\n",
    "epochs = 1000\n",
    "start_epoch = 0\n",
    "lr = 3e-5"
   ]
  },
  {
   "cell_type": "code",
   "execution_count": 3,
   "metadata": {},
   "outputs": [
    {
     "name": "stdout",
     "output_type": "stream",
     "text": [
      "True\n",
      "학습을 진행하는 기기: cuda:1\n"
     ]
    }
   ],
   "source": [
    "USE_CUDA = torch.cuda.is_available()\n",
    "print(USE_CUDA)\n",
    "\n",
    "device = torch.device('cuda:1' if USE_CUDA else 'cpu')\n",
    "print('학습을 진행하는 기기:', device)"
   ]
  },
  {
   "cell_type": "code",
   "execution_count": 4,
   "metadata": {},
   "outputs": [],
   "source": [
    "with open('/home/oem/kw/개성형성/BackgroundRandomRemove/Dataset/15frame/training(FullShot_15Frame).dat', \"rb\") as training_file:\n",
    "    train_input_temp = pickle.load(training_file)\n",
    "with open('/home/oem/kw/개성형성/BackgroundRandomRemove/Dataset/15frame/validation(FullShot_15Frame).dat', \"rb\") as validation_file:\n",
    "    valid_input_temp = pickle.load(validation_file)"
   ]
  },
  {
   "cell_type": "code",
   "execution_count": 5,
   "metadata": {},
   "outputs": [
    {
     "name": "stdout",
     "output_type": "stream",
     "text": [
      "(5979, 15, 224, 224, 3)\n",
      "(1993, 15, 224, 224, 3)\n"
     ]
    }
   ],
   "source": [
    "print(train_input_temp[0].shape)\n",
    "print(valid_input_temp[0].shape)"
   ]
  },
  {
   "cell_type": "code",
   "execution_count": 6,
   "metadata": {},
   "outputs": [],
   "source": [
    "class ChalearnDataset(Dataset):\n",
    "    def __init__(self, fullshot, label):\n",
    "        self.fullshot = fullshot\n",
    "        self.label = label\n",
    "        \n",
    "    def __len__(self):\n",
    "        return len(self.fullshot)\n",
    "    \n",
    "    def __getitem__(self, idx):\n",
    "        if torch.is_tensor(idx):\n",
    "            idx = idx.tolist()\n",
    "        \n",
    "        fullshot_data = self.fullshot[idx]\n",
    "        fullshot_data = torch.FloatTensor(fullshot_data)\n",
    "\n",
    "        label_data = self.label[idx]\n",
    "        label_data = torch.FloatTensor(label_data)\n",
    "        \n",
    "        return fullshot_data, label_data"
   ]
  },
  {
   "cell_type": "code",
   "execution_count": 7,
   "metadata": {},
   "outputs": [],
   "source": [
    "train_dataset = ChalearnDataset(fullshot = train_input_temp[0], label = train_input_temp[1])\n",
    "val_dataset = ChalearnDataset(fullshot = valid_input_temp[0], label = valid_input_temp[1])\n",
    "\n",
    "train_dataloader = DataLoader(dataset=train_dataset, batch_size=batchsz, shuffle=False, num_workers=num_workers)\n",
    "val_dataloader = DataLoader(dataset=val_dataset, batch_size=batchsz, shuffle=False, num_workers=num_workers)\n",
    "\n",
    "max_value=0"
   ]
  },
  {
   "cell_type": "code",
   "execution_count": 8,
   "metadata": {},
   "outputs": [
    {
     "name": "stdout",
     "output_type": "stream",
     "text": [
      "R2plus1d_pretrained_model\n",
      "img_size (28, 28) patch_size (4, 4) frames 4 t_patch_size 2\n"
     ]
    }
   ],
   "source": [
    "model=MaskedAutoencoderViT(num_frames = 4, t_patch_size = 2, img_size = 28, patch_size = 4, embed_dim = 96)\n",
    "\n",
    "model.to(device)\n",
    "\n",
    "criterion = torch.nn.L1Loss().to(device)\n",
    "optimizer = torch.optim.AdamW(model.parameters(), lr=lr)"
   ]
  },
  {
   "cell_type": "code",
   "execution_count": 9,
   "metadata": {},
   "outputs": [
    {
     "data": {
      "text/plain": [
       "=============================================================================================================================\n",
       "Layer (type:depth-idx)                             Input Shape               Output Shape              Param #\n",
       "=============================================================================================================================\n",
       "MaskedAutoencoderViT                               [16, 3, 15, 224, 224]     [16, 5]                   60,096\n",
       "├─VideoResNet: 1-1                                 [16, 3, 15, 224, 224]     [16, 256, 4, 28, 28]      --\n",
       "│    └─R2Plus1dStem: 2-1                           [16, 3, 15, 224, 224]     [16, 64, 15, 112, 112]    --\n",
       "│    │    └─Conv3d: 3-1                            [16, 3, 15, 224, 224]     [16, 45, 15, 112, 112]    6,615\n",
       "│    │    └─BatchNorm3d: 3-2                       [16, 45, 15, 112, 112]    [16, 45, 15, 112, 112]    90\n",
       "│    │    └─ReLU: 3-3                              [16, 45, 15, 112, 112]    [16, 45, 15, 112, 112]    --\n",
       "│    │    └─Conv3d: 3-4                            [16, 45, 15, 112, 112]    [16, 64, 15, 112, 112]    8,640\n",
       "│    │    └─BatchNorm3d: 3-5                       [16, 64, 15, 112, 112]    [16, 64, 15, 112, 112]    128\n",
       "│    │    └─ReLU: 3-6                              [16, 64, 15, 112, 112]    [16, 64, 15, 112, 112]    --\n",
       "│    └─Sequential: 2-2                             [16, 64, 15, 112, 112]    [16, 64, 15, 112, 112]    --\n",
       "│    │    └─BasicBlock: 3-7                        [16, 64, 15, 112, 112]    [16, 64, 15, 112, 112]    222,016\n",
       "│    │    └─BasicBlock: 3-8                        [16, 64, 15, 112, 112]    [16, 64, 15, 112, 112]    222,016\n",
       "│    └─Sequential: 2-3                             [16, 64, 15, 112, 112]    [16, 128, 8, 56, 56]      --\n",
       "│    │    └─BasicBlock: 3-9                        [16, 64, 15, 112, 112]    [16, 128, 8, 56, 56]      583,960\n",
       "│    │    └─BasicBlock: 3-10                       [16, 128, 8, 56, 56]      [16, 128, 8, 56, 56]      886,400\n",
       "│    └─Sequential: 2-4                             [16, 128, 8, 56, 56]      [16, 256, 4, 28, 28]      --\n",
       "│    │    └─BasicBlock: 3-11                       [16, 128, 8, 56, 56]      [16, 256, 4, 28, 28]      2,332,464\n",
       "│    │    └─BasicBlock: 3-12                       [16, 256, 4, 28, 28]      [16, 256, 4, 28, 28]      3,542,272\n",
       "├─PatchEmbed: 1-2                                  [16, 256, 4, 28, 28]      [16, 2, 49, 96]           --\n",
       "│    └─Conv3d: 2-5                                 [16, 256, 4, 28, 28]      [16, 96, 2, 7, 7]         786,528\n",
       "├─ModuleList: 1-3                                  --                        --                        --\n",
       "│    └─Block: 2-6                                  [16, 24, 96]              [16, 24, 96]              --\n",
       "│    │    └─LayerNorm: 3-13                        [16, 24, 96]              [16, 24, 96]              192\n",
       "│    │    └─Attention: 3-14                        [16, 24, 96]              [16, 24, 96]              37,248\n",
       "│    │    └─Identity: 3-15                         [16, 24, 96]              [16, 24, 96]              --\n",
       "│    │    └─LayerNorm: 3-16                        [16, 24, 96]              [16, 24, 96]              192\n",
       "│    │    └─Mlp: 3-17                              [16, 24, 96]              [16, 24, 96]              74,208\n",
       "│    │    └─Identity: 3-18                         [16, 24, 96]              [16, 24, 96]              --\n",
       "│    └─Block: 2-7                                  [16, 24, 96]              [16, 24, 96]              --\n",
       "│    │    └─LayerNorm: 3-19                        [16, 24, 96]              [16, 24, 96]              192\n",
       "│    │    └─Attention: 3-20                        [16, 24, 96]              [16, 24, 96]              37,248\n",
       "│    │    └─Identity: 3-21                         [16, 24, 96]              [16, 24, 96]              --\n",
       "│    │    └─LayerNorm: 3-22                        [16, 24, 96]              [16, 24, 96]              192\n",
       "│    │    └─Mlp: 3-23                              [16, 24, 96]              [16, 24, 96]              74,208\n",
       "│    │    └─Identity: 3-24                         [16, 24, 96]              [16, 24, 96]              --\n",
       "│    └─Block: 2-8                                  [16, 24, 96]              [16, 24, 96]              --\n",
       "│    │    └─LayerNorm: 3-25                        [16, 24, 96]              [16, 24, 96]              192\n",
       "│    │    └─Attention: 3-26                        [16, 24, 96]              [16, 24, 96]              37,248\n",
       "│    │    └─Identity: 3-27                         [16, 24, 96]              [16, 24, 96]              --\n",
       "│    │    └─LayerNorm: 3-28                        [16, 24, 96]              [16, 24, 96]              192\n",
       "│    │    └─Mlp: 3-29                              [16, 24, 96]              [16, 24, 96]              74,208\n",
       "│    │    └─Identity: 3-30                         [16, 24, 96]              [16, 24, 96]              --\n",
       "│    └─Block: 2-9                                  [16, 24, 96]              [16, 24, 96]              --\n",
       "│    │    └─LayerNorm: 3-31                        [16, 24, 96]              [16, 24, 96]              192\n",
       "│    │    └─Attention: 3-32                        [16, 24, 96]              [16, 24, 96]              37,248\n",
       "│    │    └─Identity: 3-33                         [16, 24, 96]              [16, 24, 96]              --\n",
       "│    │    └─LayerNorm: 3-34                        [16, 24, 96]              [16, 24, 96]              192\n",
       "│    │    └─Mlp: 3-35                              [16, 24, 96]              [16, 24, 96]              74,208\n",
       "│    │    └─Identity: 3-36                         [16, 24, 96]              [16, 24, 96]              --\n",
       "│    └─Block: 2-10                                 [16, 24, 96]              [16, 24, 96]              --\n",
       "│    │    └─LayerNorm: 3-37                        [16, 24, 96]              [16, 24, 96]              192\n",
       "│    │    └─Attention: 3-38                        [16, 24, 96]              [16, 24, 96]              37,248\n",
       "│    │    └─Identity: 3-39                         [16, 24, 96]              [16, 24, 96]              --\n",
       "│    │    └─LayerNorm: 3-40                        [16, 24, 96]              [16, 24, 96]              192\n",
       "│    │    └─Mlp: 3-41                              [16, 24, 96]              [16, 24, 96]              74,208\n",
       "│    │    └─Identity: 3-42                         [16, 24, 96]              [16, 24, 96]              --\n",
       "│    └─Block: 2-11                                 [16, 24, 96]              [16, 24, 96]              --\n",
       "│    │    └─LayerNorm: 3-43                        [16, 24, 96]              [16, 24, 96]              192\n",
       "│    │    └─Attention: 3-44                        [16, 24, 96]              [16, 24, 96]              37,248\n",
       "│    │    └─Identity: 3-45                         [16, 24, 96]              [16, 24, 96]              --\n",
       "│    │    └─LayerNorm: 3-46                        [16, 24, 96]              [16, 24, 96]              192\n",
       "│    │    └─Mlp: 3-47                              [16, 24, 96]              [16, 24, 96]              74,208\n",
       "│    │    └─Identity: 3-48                         [16, 24, 96]              [16, 24, 96]              --\n",
       "│    └─Block: 2-12                                 [16, 24, 96]              [16, 24, 96]              --\n",
       "│    │    └─LayerNorm: 3-49                        [16, 24, 96]              [16, 24, 96]              192\n",
       "│    │    └─Attention: 3-50                        [16, 24, 96]              [16, 24, 96]              37,248\n",
       "│    │    └─Identity: 3-51                         [16, 24, 96]              [16, 24, 96]              --\n",
       "│    │    └─LayerNorm: 3-52                        [16, 24, 96]              [16, 24, 96]              192\n",
       "│    │    └─Mlp: 3-53                              [16, 24, 96]              [16, 24, 96]              74,208\n",
       "│    │    └─Identity: 3-54                         [16, 24, 96]              [16, 24, 96]              --\n",
       "│    └─Block: 2-13                                 [16, 24, 96]              [16, 24, 96]              --\n",
       "│    │    └─LayerNorm: 3-55                        [16, 24, 96]              [16, 24, 96]              192\n",
       "│    │    └─Attention: 3-56                        [16, 24, 96]              [16, 24, 96]              37,248\n",
       "│    │    └─Identity: 3-57                         [16, 24, 96]              [16, 24, 96]              --\n",
       "│    │    └─LayerNorm: 3-58                        [16, 24, 96]              [16, 24, 96]              192\n",
       "│    │    └─Mlp: 3-59                              [16, 24, 96]              [16, 24, 96]              74,208\n",
       "│    │    └─Identity: 3-60                         [16, 24, 96]              [16, 24, 96]              --\n",
       "│    └─Block: 2-14                                 [16, 24, 96]              [16, 24, 96]              --\n",
       "│    │    └─LayerNorm: 3-61                        [16, 24, 96]              [16, 24, 96]              192\n",
       "│    │    └─Attention: 3-62                        [16, 24, 96]              [16, 24, 96]              37,248\n",
       "│    │    └─Identity: 3-63                         [16, 24, 96]              [16, 24, 96]              --\n",
       "│    │    └─LayerNorm: 3-64                        [16, 24, 96]              [16, 24, 96]              192\n",
       "│    │    └─Mlp: 3-65                              [16, 24, 96]              [16, 24, 96]              74,208\n",
       "│    │    └─Identity: 3-66                         [16, 24, 96]              [16, 24, 96]              --\n",
       "│    └─Block: 2-15                                 [16, 24, 96]              [16, 24, 96]              --\n",
       "│    │    └─LayerNorm: 3-67                        [16, 24, 96]              [16, 24, 96]              192\n",
       "│    │    └─Attention: 3-68                        [16, 24, 96]              [16, 24, 96]              37,248\n",
       "│    │    └─Identity: 3-69                         [16, 24, 96]              [16, 24, 96]              --\n",
       "│    │    └─LayerNorm: 3-70                        [16, 24, 96]              [16, 24, 96]              192\n",
       "│    │    └─Mlp: 3-71                              [16, 24, 96]              [16, 24, 96]              74,208\n",
       "│    │    └─Identity: 3-72                         [16, 24, 96]              [16, 24, 96]              --\n",
       "│    └─Block: 2-16                                 [16, 24, 96]              [16, 24, 96]              --\n",
       "│    │    └─LayerNorm: 3-73                        [16, 24, 96]              [16, 24, 96]              192\n",
       "│    │    └─Attention: 3-74                        [16, 24, 96]              [16, 24, 96]              37,248\n",
       "│    │    └─Identity: 3-75                         [16, 24, 96]              [16, 24, 96]              --\n",
       "│    │    └─LayerNorm: 3-76                        [16, 24, 96]              [16, 24, 96]              192\n",
       "│    │    └─Mlp: 3-77                              [16, 24, 96]              [16, 24, 96]              74,208\n",
       "│    │    └─Identity: 3-78                         [16, 24, 96]              [16, 24, 96]              --\n",
       "│    └─Block: 2-17                                 [16, 24, 96]              [16, 24, 96]              --\n",
       "│    │    └─LayerNorm: 3-79                        [16, 24, 96]              [16, 24, 96]              192\n",
       "│    │    └─Attention: 3-80                        [16, 24, 96]              [16, 24, 96]              37,248\n",
       "│    │    └─Identity: 3-81                         [16, 24, 96]              [16, 24, 96]              --\n",
       "│    │    └─LayerNorm: 3-82                        [16, 24, 96]              [16, 24, 96]              192\n",
       "│    │    └─Mlp: 3-83                              [16, 24, 96]              [16, 24, 96]              74,208\n",
       "│    │    └─Identity: 3-84                         [16, 24, 96]              [16, 24, 96]              --\n",
       "│    └─Block: 2-18                                 [16, 24, 96]              [16, 24, 96]              --\n",
       "│    │    └─LayerNorm: 3-85                        [16, 24, 96]              [16, 24, 96]              192\n",
       "│    │    └─Attention: 3-86                        [16, 24, 96]              [16, 24, 96]              37,248\n",
       "│    │    └─Identity: 3-87                         [16, 24, 96]              [16, 24, 96]              --\n",
       "│    │    └─LayerNorm: 3-88                        [16, 24, 96]              [16, 24, 96]              192\n",
       "│    │    └─Mlp: 3-89                              [16, 24, 96]              [16, 24, 96]              74,208\n",
       "│    │    └─Identity: 3-90                         [16, 24, 96]              [16, 24, 96]              --\n",
       "│    └─Block: 2-19                                 [16, 24, 96]              [16, 24, 96]              --\n",
       "│    │    └─LayerNorm: 3-91                        [16, 24, 96]              [16, 24, 96]              192\n",
       "│    │    └─Attention: 3-92                        [16, 24, 96]              [16, 24, 96]              37,248\n",
       "│    │    └─Identity: 3-93                         [16, 24, 96]              [16, 24, 96]              --\n",
       "│    │    └─LayerNorm: 3-94                        [16, 24, 96]              [16, 24, 96]              192\n",
       "│    │    └─Mlp: 3-95                              [16, 24, 96]              [16, 24, 96]              74,208\n",
       "│    │    └─Identity: 3-96                         [16, 24, 96]              [16, 24, 96]              --\n",
       "│    └─Block: 2-20                                 [16, 24, 96]              [16, 24, 96]              --\n",
       "│    │    └─LayerNorm: 3-97                        [16, 24, 96]              [16, 24, 96]              192\n",
       "│    │    └─Attention: 3-98                        [16, 24, 96]              [16, 24, 96]              37,248\n",
       "│    │    └─Identity: 3-99                         [16, 24, 96]              [16, 24, 96]              --\n",
       "│    │    └─LayerNorm: 3-100                       [16, 24, 96]              [16, 24, 96]              192\n",
       "│    │    └─Mlp: 3-101                             [16, 24, 96]              [16, 24, 96]              74,208\n",
       "│    │    └─Identity: 3-102                        [16, 24, 96]              [16, 24, 96]              --\n",
       "│    └─Block: 2-21                                 [16, 24, 96]              [16, 24, 96]              --\n",
       "│    │    └─LayerNorm: 3-103                       [16, 24, 96]              [16, 24, 96]              192\n",
       "│    │    └─Attention: 3-104                       [16, 24, 96]              [16, 24, 96]              37,248\n",
       "│    │    └─Identity: 3-105                        [16, 24, 96]              [16, 24, 96]              --\n",
       "│    │    └─LayerNorm: 3-106                       [16, 24, 96]              [16, 24, 96]              192\n",
       "│    │    └─Mlp: 3-107                             [16, 24, 96]              [16, 24, 96]              74,208\n",
       "│    │    └─Identity: 3-108                        [16, 24, 96]              [16, 24, 96]              --\n",
       "│    └─Block: 2-22                                 [16, 24, 96]              [16, 24, 96]              --\n",
       "│    │    └─LayerNorm: 3-109                       [16, 24, 96]              [16, 24, 96]              192\n",
       "│    │    └─Attention: 3-110                       [16, 24, 96]              [16, 24, 96]              37,248\n",
       "│    │    └─Identity: 3-111                        [16, 24, 96]              [16, 24, 96]              --\n",
       "│    │    └─LayerNorm: 3-112                       [16, 24, 96]              [16, 24, 96]              192\n",
       "│    │    └─Mlp: 3-113                             [16, 24, 96]              [16, 24, 96]              74,208\n",
       "│    │    └─Identity: 3-114                        [16, 24, 96]              [16, 24, 96]              --\n",
       "│    └─Block: 2-23                                 [16, 24, 96]              [16, 24, 96]              --\n",
       "│    │    └─LayerNorm: 3-115                       [16, 24, 96]              [16, 24, 96]              192\n",
       "│    │    └─Attention: 3-116                       [16, 24, 96]              [16, 24, 96]              37,248\n",
       "│    │    └─Identity: 3-117                        [16, 24, 96]              [16, 24, 96]              --\n",
       "│    │    └─LayerNorm: 3-118                       [16, 24, 96]              [16, 24, 96]              192\n",
       "│    │    └─Mlp: 3-119                             [16, 24, 96]              [16, 24, 96]              74,208\n",
       "│    │    └─Identity: 3-120                        [16, 24, 96]              [16, 24, 96]              --\n",
       "│    └─Block: 2-24                                 [16, 24, 96]              [16, 24, 96]              --\n",
       "│    │    └─LayerNorm: 3-121                       [16, 24, 96]              [16, 24, 96]              192\n",
       "│    │    └─Attention: 3-122                       [16, 24, 96]              [16, 24, 96]              37,248\n",
       "│    │    └─Identity: 3-123                        [16, 24, 96]              [16, 24, 96]              --\n",
       "│    │    └─LayerNorm: 3-124                       [16, 24, 96]              [16, 24, 96]              192\n",
       "│    │    └─Mlp: 3-125                             [16, 24, 96]              [16, 24, 96]              74,208\n",
       "│    │    └─Identity: 3-126                        [16, 24, 96]              [16, 24, 96]              --\n",
       "│    └─Block: 2-25                                 [16, 24, 96]              [16, 24, 96]              --\n",
       "│    │    └─LayerNorm: 3-127                       [16, 24, 96]              [16, 24, 96]              192\n",
       "│    │    └─Attention: 3-128                       [16, 24, 96]              [16, 24, 96]              37,248\n",
       "│    │    └─Identity: 3-129                        [16, 24, 96]              [16, 24, 96]              --\n",
       "│    │    └─LayerNorm: 3-130                       [16, 24, 96]              [16, 24, 96]              192\n",
       "│    │    └─Mlp: 3-131                             [16, 24, 96]              [16, 24, 96]              74,208\n",
       "│    │    └─Identity: 3-132                        [16, 24, 96]              [16, 24, 96]              --\n",
       "│    └─Block: 2-26                                 [16, 24, 96]              [16, 24, 96]              --\n",
       "│    │    └─LayerNorm: 3-133                       [16, 24, 96]              [16, 24, 96]              192\n",
       "│    │    └─Attention: 3-134                       [16, 24, 96]              [16, 24, 96]              37,248\n",
       "│    │    └─Identity: 3-135                        [16, 24, 96]              [16, 24, 96]              --\n",
       "│    │    └─LayerNorm: 3-136                       [16, 24, 96]              [16, 24, 96]              192\n",
       "│    │    └─Mlp: 3-137                             [16, 24, 96]              [16, 24, 96]              74,208\n",
       "│    │    └─Identity: 3-138                        [16, 24, 96]              [16, 24, 96]              --\n",
       "│    └─Block: 2-27                                 [16, 24, 96]              [16, 24, 96]              --\n",
       "│    │    └─LayerNorm: 3-139                       [16, 24, 96]              [16, 24, 96]              192\n",
       "│    │    └─Attention: 3-140                       [16, 24, 96]              [16, 24, 96]              37,248\n",
       "│    │    └─Identity: 3-141                        [16, 24, 96]              [16, 24, 96]              --\n",
       "│    │    └─LayerNorm: 3-142                       [16, 24, 96]              [16, 24, 96]              192\n",
       "│    │    └─Mlp: 3-143                             [16, 24, 96]              [16, 24, 96]              74,208\n",
       "│    │    └─Identity: 3-144                        [16, 24, 96]              [16, 24, 96]              --\n",
       "│    └─Block: 2-28                                 [16, 24, 96]              [16, 24, 96]              --\n",
       "│    │    └─LayerNorm: 3-145                       [16, 24, 96]              [16, 24, 96]              192\n",
       "│    │    └─Attention: 3-146                       [16, 24, 96]              [16, 24, 96]              37,248\n",
       "│    │    └─Identity: 3-147                        [16, 24, 96]              [16, 24, 96]              --\n",
       "│    │    └─LayerNorm: 3-148                       [16, 24, 96]              [16, 24, 96]              192\n",
       "│    │    └─Mlp: 3-149                             [16, 24, 96]              [16, 24, 96]              74,208\n",
       "│    │    └─Identity: 3-150                        [16, 24, 96]              [16, 24, 96]              --\n",
       "│    └─Block: 2-29                                 [16, 24, 96]              [16, 24, 96]              --\n",
       "│    │    └─LayerNorm: 3-151                       [16, 24, 96]              [16, 24, 96]              192\n",
       "│    │    └─Attention: 3-152                       [16, 24, 96]              [16, 24, 96]              37,248\n",
       "│    │    └─Identity: 3-153                        [16, 24, 96]              [16, 24, 96]              --\n",
       "│    │    └─LayerNorm: 3-154                       [16, 24, 96]              [16, 24, 96]              192\n",
       "│    │    └─Mlp: 3-155                             [16, 24, 96]              [16, 24, 96]              74,208\n",
       "│    │    └─Identity: 3-156                        [16, 24, 96]              [16, 24, 96]              --\n",
       "├─LayerNorm: 1-4                                   [16, 24, 96]              [16, 24, 96]              192\n",
       "├─LayerNorm: 1-5                                   [16, 96]                  [16, 96]                  (recursive)\n",
       "├─Dropout: 1-6                                     [16, 96]                  [16, 96]                  --\n",
       "├─Linear: 1-7                                      [16, 96]                  [16, 5]                   485\n",
       "=============================================================================================================================\n",
       "Total params: 11,336,062\n",
       "Trainable params: 11,336,062\n",
       "Non-trainable params: 0\n",
       "Total mult-adds (T): 2.34\n",
       "=============================================================================================================================\n",
       "Input size (MB): 144.51\n",
       "Forward/backward pass size (MB): 60523.39\n",
       "Params size (MB): 45.10\n",
       "Estimated Total Size (MB): 60713.00\n",
       "============================================================================================================================="
      ]
     },
     "execution_count": 9,
     "metadata": {},
     "output_type": "execute_result"
    }
   ],
   "source": [
    "from torchinfo import summary\n",
    "\n",
    "summary(model, input_size = (16,3,15,224,224), col_names = ['input_size','output_size','num_params'])"
   ]
  },
  {
   "cell_type": "code",
   "execution_count": 10,
   "metadata": {},
   "outputs": [
    {
     "data": {
      "text/plain": [
       "11336062"
      ]
     },
     "execution_count": 10,
     "metadata": {},
     "output_type": "execute_result"
    }
   ],
   "source": [
    "sum(p.numel() for p in model.parameters() if p.requires_grad)"
   ]
  },
  {
   "cell_type": "code",
   "execution_count": 11,
   "metadata": {},
   "outputs": [
    {
     "data": {
      "text/plain": [
       "11336062"
      ]
     },
     "execution_count": 11,
     "metadata": {},
     "output_type": "execute_result"
    }
   ],
   "source": [
    "sum(p.numel() for p in model.parameters())"
   ]
  },
  {
   "cell_type": "code",
   "execution_count": 12,
   "metadata": {},
   "outputs": [
    {
     "name": "stderr",
     "output_type": "stream",
     "text": [
      "  0%|          | 0/748 [00:00<?, ?it/s]"
     ]
    },
    {
     "name": "stderr",
     "output_type": "stream",
     "text": [
      "100%|██████████| 748/748 [05:16<00:00,  2.36it/s]\n",
      "[2024-03-12 22:40:10,480]::269792397::DEBUG::Epoch = 1, 1 - train_loss = 0.4250172457513325\n"
     ]
    },
    {
     "name": "stdout",
     "output_type": "stream",
     "text": [
      "Epoch = 1, 1 - train_loss = 0.4250172457513325\n"
     ]
    },
    {
     "name": "stderr",
     "output_type": "stream",
     "text": [
      "100%|██████████| 250/250 [00:34<00:00,  7.34it/s]\n",
      "[2024-03-12 22:40:44,562]::269792397::DEBUG::Epoch = 1, 1 - valid_loss = 0.8748489592075348\n"
     ]
    },
    {
     "name": "stdout",
     "output_type": "stream",
     "text": [
      "Epoch = 1, 1 - val_loss = 0.8748489592075348\n",
      "\n",
      "\n"
     ]
    },
    {
     "name": "stderr",
     "output_type": "stream",
     "text": [
      "100%|██████████| 748/748 [05:17<00:00,  2.36it/s]\n",
      "[2024-03-12 22:46:02,096]::269792397::DEBUG::Epoch = 2, 1 - train_loss = 0.695989240379257\n"
     ]
    },
    {
     "name": "stdout",
     "output_type": "stream",
     "text": [
      "Epoch = 2, 1 - train_loss = 0.695989240379257\n"
     ]
    },
    {
     "name": "stderr",
     "output_type": "stream",
     "text": [
      "100%|██████████| 250/250 [00:33<00:00,  7.39it/s]\n",
      "[2024-03-12 22:46:35,921]::269792397::DEBUG::Epoch = 2, 1 - valid_loss = 0.8743573032021522\n"
     ]
    },
    {
     "name": "stdout",
     "output_type": "stream",
     "text": [
      "Epoch = 2, 1 - val_loss = 0.8743573032021522\n",
      "\n",
      "\n"
     ]
    },
    {
     "name": "stderr",
     "output_type": "stream",
     "text": [
      "100%|██████████| 748/748 [05:17<00:00,  2.36it/s]\n",
      "[2024-03-12 22:51:53,178]::269792397::DEBUG::Epoch = 3, 1 - train_loss = 0.7767730440127658\n"
     ]
    },
    {
     "name": "stdout",
     "output_type": "stream",
     "text": [
      "Epoch = 3, 1 - train_loss = 0.7767730440127658\n"
     ]
    },
    {
     "name": "stderr",
     "output_type": "stream",
     "text": [
      "100%|██████████| 250/250 [00:33<00:00,  7.36it/s]\n",
      "[2024-03-12 22:52:27,175]::269792397::DEBUG::Epoch = 3, 1 - valid_loss = 0.8846264229714871\n"
     ]
    },
    {
     "name": "stdout",
     "output_type": "stream",
     "text": [
      "Epoch = 3, 1 - val_loss = 0.8846264229714871\n",
      "\n",
      "\n"
     ]
    },
    {
     "name": "stderr",
     "output_type": "stream",
     "text": [
      "100%|██████████| 748/748 [05:16<00:00,  2.36it/s]\n",
      "[2024-03-12 22:57:44,132]::269792397::DEBUG::Epoch = 4, 1 - train_loss = 0.8172416154912767\n"
     ]
    },
    {
     "name": "stdout",
     "output_type": "stream",
     "text": [
      "Epoch = 4, 1 - train_loss = 0.8172416154912767\n"
     ]
    },
    {
     "name": "stderr",
     "output_type": "stream",
     "text": [
      "100%|██████████| 250/250 [00:33<00:00,  7.40it/s]\n",
      "[2024-03-12 22:58:17,905]::269792397::DEBUG::Epoch = 4, 1 - valid_loss = 0.8961479560732841\n"
     ]
    },
    {
     "name": "stdout",
     "output_type": "stream",
     "text": [
      "Epoch = 4, 1 - val_loss = 0.8961479560732841\n",
      "\n",
      "\n"
     ]
    },
    {
     "name": "stderr",
     "output_type": "stream",
     "text": [
      "100%|██████████| 748/748 [05:17<00:00,  2.36it/s]\n",
      "[2024-03-12 23:03:35,174]::269792397::DEBUG::Epoch = 5, 1 - train_loss = 0.8358548708399509\n"
     ]
    },
    {
     "name": "stdout",
     "output_type": "stream",
     "text": [
      "Epoch = 5, 1 - train_loss = 0.8358548708399509\n"
     ]
    },
    {
     "name": "stderr",
     "output_type": "stream",
     "text": [
      "100%|██████████| 250/250 [00:33<00:00,  7.40it/s]\n",
      "[2024-03-12 23:04:08,969]::269792397::DEBUG::Epoch = 5, 1 - valid_loss = 0.8961243823766708\n"
     ]
    },
    {
     "name": "stdout",
     "output_type": "stream",
     "text": [
      "Epoch = 5, 1 - val_loss = 0.8961243823766708\n",
      "\n",
      "\n"
     ]
    },
    {
     "name": "stderr",
     "output_type": "stream",
     "text": [
      "100%|██████████| 748/748 [05:16<00:00,  2.36it/s]\n",
      "[2024-03-12 23:09:26,087]::269792397::DEBUG::Epoch = 6, 1 - train_loss = 0.8468399097356089\n"
     ]
    },
    {
     "name": "stdout",
     "output_type": "stream",
     "text": [
      "Epoch = 6, 1 - train_loss = 0.8468399097356089\n"
     ]
    },
    {
     "name": "stderr",
     "output_type": "stream",
     "text": [
      "100%|██████████| 250/250 [00:33<00:00,  7.38it/s]\n",
      "[2024-03-12 23:09:59,979]::269792397::DEBUG::Epoch = 6, 1 - valid_loss = 0.8966086454689502\n"
     ]
    },
    {
     "name": "stdout",
     "output_type": "stream",
     "text": [
      "Epoch = 6, 1 - val_loss = 0.8966086454689502\n",
      "\n",
      "\n"
     ]
    },
    {
     "name": "stderr",
     "output_type": "stream",
     "text": [
      "100%|██████████| 748/748 [05:18<00:00,  2.35it/s]\n",
      "[2024-03-12 23:15:18,329]::269792397::DEBUG::Epoch = 7, 1 - train_loss = 0.8560024720322799\n"
     ]
    },
    {
     "name": "stdout",
     "output_type": "stream",
     "text": [
      "Epoch = 7, 1 - train_loss = 0.8560024720322799\n"
     ]
    },
    {
     "name": "stderr",
     "output_type": "stream",
     "text": [
      "100%|██████████| 250/250 [00:34<00:00,  7.32it/s]\n",
      "[2024-03-12 23:15:52,490]::269792397::DEBUG::Epoch = 7, 1 - valid_loss = 0.8972153080254793\n"
     ]
    },
    {
     "name": "stdout",
     "output_type": "stream",
     "text": [
      "Epoch = 7, 1 - val_loss = 0.8972153080254793\n",
      "\n",
      "\n"
     ]
    },
    {
     "name": "stderr",
     "output_type": "stream",
     "text": [
      "100%|██████████| 748/748 [05:17<00:00,  2.36it/s]\n",
      "[2024-03-12 23:21:09,718]::269792397::DEBUG::Epoch = 8, 1 - train_loss = 0.8624876440766661\n"
     ]
    },
    {
     "name": "stdout",
     "output_type": "stream",
     "text": [
      "Epoch = 8, 1 - train_loss = 0.8624876440766661\n"
     ]
    },
    {
     "name": "stderr",
     "output_type": "stream",
     "text": [
      "100%|██████████| 250/250 [00:33<00:00,  7.36it/s]\n",
      "[2024-03-12 23:21:43,711]::269792397::DEBUG::Epoch = 8, 1 - valid_loss = 0.902783153384924\n"
     ]
    },
    {
     "name": "stdout",
     "output_type": "stream",
     "text": [
      "Epoch = 8, 1 - val_loss = 0.902783153384924\n",
      "\n",
      "\n"
     ]
    },
    {
     "name": "stderr",
     "output_type": "stream",
     "text": [
      "100%|██████████| 748/748 [05:16<00:00,  2.36it/s]\n",
      "[2024-03-12 23:27:00,646]::269792397::DEBUG::Epoch = 9, 1 - train_loss = 0.8693503089906538\n"
     ]
    },
    {
     "name": "stdout",
     "output_type": "stream",
     "text": [
      "Epoch = 9, 1 - train_loss = 0.8693503089906538\n"
     ]
    },
    {
     "name": "stderr",
     "output_type": "stream",
     "text": [
      "100%|██████████| 250/250 [00:33<00:00,  7.41it/s]\n",
      "[2024-03-12 23:27:34,374]::269792397::DEBUG::Epoch = 9, 1 - valid_loss = 0.9011740357428789\n"
     ]
    },
    {
     "name": "stdout",
     "output_type": "stream",
     "text": [
      "Epoch = 9, 1 - val_loss = 0.9011740357428789\n",
      "\n",
      "\n"
     ]
    },
    {
     "name": "stderr",
     "output_type": "stream",
     "text": [
      "100%|██████████| 748/748 [05:17<00:00,  2.36it/s]\n",
      "[2024-03-12 23:32:51,607]::269792397::DEBUG::Epoch = 10, 1 - train_loss = 0.8716962524356051\n"
     ]
    },
    {
     "name": "stdout",
     "output_type": "stream",
     "text": [
      "Epoch = 10, 1 - train_loss = 0.8716962524356051\n"
     ]
    },
    {
     "name": "stderr",
     "output_type": "stream",
     "text": [
      "100%|██████████| 250/250 [00:33<00:00,  7.36it/s]\n",
      "[2024-03-12 23:33:25,561]::269792397::DEBUG::Epoch = 10, 1 - valid_loss = 0.9008060522824526\n"
     ]
    },
    {
     "name": "stdout",
     "output_type": "stream",
     "text": [
      "Epoch = 10, 1 - val_loss = 0.9008060522824526\n",
      "\n",
      "\n"
     ]
    },
    {
     "name": "stderr",
     "output_type": "stream",
     "text": [
      "100%|██████████| 748/748 [05:17<00:00,  2.36it/s]\n",
      "[2024-03-12 23:38:43,078]::269792397::DEBUG::Epoch = 11, 1 - train_loss = 0.8768074880428811\n"
     ]
    },
    {
     "name": "stdout",
     "output_type": "stream",
     "text": [
      "Epoch = 11, 1 - train_loss = 0.8768074880428811\n"
     ]
    },
    {
     "name": "stderr",
     "output_type": "stream",
     "text": [
      "100%|██████████| 250/250 [00:33<00:00,  7.38it/s]\n",
      "[2024-03-12 23:39:16,941]::269792397::DEBUG::Epoch = 11, 1 - valid_loss = 0.90359239885211\n"
     ]
    },
    {
     "name": "stdout",
     "output_type": "stream",
     "text": [
      "Epoch = 11, 1 - val_loss = 0.90359239885211\n",
      "\n",
      "\n"
     ]
    },
    {
     "name": "stderr",
     "output_type": "stream",
     "text": [
      "100%|██████████| 748/748 [05:16<00:00,  2.36it/s]\n",
      "[2024-03-12 23:44:33,923]::269792397::DEBUG::Epoch = 12, 1 - train_loss = 0.8807713029218868\n"
     ]
    },
    {
     "name": "stdout",
     "output_type": "stream",
     "text": [
      "Epoch = 12, 1 - train_loss = 0.8807713029218868\n"
     ]
    },
    {
     "name": "stderr",
     "output_type": "stream",
     "text": [
      "100%|██████████| 250/250 [00:33<00:00,  7.40it/s]\n",
      "[2024-03-12 23:45:07,702]::269792397::DEBUG::Epoch = 12, 1 - valid_loss = 0.9044602207541466\n"
     ]
    },
    {
     "name": "stdout",
     "output_type": "stream",
     "text": [
      "Epoch = 12, 1 - val_loss = 0.9044602207541466\n",
      "\n",
      "\n"
     ]
    },
    {
     "name": "stderr",
     "output_type": "stream",
     "text": [
      "100%|██████████| 748/748 [05:17<00:00,  2.36it/s]\n",
      "[2024-03-12 23:50:25,161]::269792397::DEBUG::Epoch = 13, 1 - train_loss = 0.8839309202895604\n"
     ]
    },
    {
     "name": "stdout",
     "output_type": "stream",
     "text": [
      "Epoch = 13, 1 - train_loss = 0.8839309202895604\n"
     ]
    },
    {
     "name": "stderr",
     "output_type": "stream",
     "text": [
      "100%|██████████| 250/250 [00:33<00:00,  7.38it/s]\n",
      "[2024-03-12 23:50:59,034]::269792397::DEBUG::Epoch = 13, 1 - valid_loss = 0.9069947668612003\n"
     ]
    },
    {
     "name": "stdout",
     "output_type": "stream",
     "text": [
      "Epoch = 13, 1 - val_loss = 0.9069947668612003\n",
      "\n",
      "\n"
     ]
    },
    {
     "name": "stderr",
     "output_type": "stream",
     "text": [
      "100%|██████████| 748/748 [05:17<00:00,  2.36it/s]\n",
      "[2024-03-12 23:56:16,294]::269792397::DEBUG::Epoch = 14, 1 - train_loss = 0.889675720380669\n"
     ]
    },
    {
     "name": "stdout",
     "output_type": "stream",
     "text": [
      "Epoch = 14, 1 - train_loss = 0.889675720380669\n"
     ]
    },
    {
     "name": "stderr",
     "output_type": "stream",
     "text": [
      "100%|██████████| 250/250 [00:33<00:00,  7.41it/s]\n",
      "[2024-03-12 23:56:50,033]::269792397::DEBUG::Epoch = 14, 1 - valid_loss = 0.8984990415722132\n"
     ]
    },
    {
     "name": "stdout",
     "output_type": "stream",
     "text": [
      "Epoch = 14, 1 - val_loss = 0.8984990415722132\n",
      "\n",
      "\n"
     ]
    },
    {
     "name": "stderr",
     "output_type": "stream",
     "text": [
      "100%|██████████| 748/748 [05:16<00:00,  2.36it/s]\n",
      "[2024-03-13 00:02:07,114]::269792397::DEBUG::Epoch = 15, 1 - train_loss = 0.8918425496069984\n"
     ]
    },
    {
     "name": "stdout",
     "output_type": "stream",
     "text": [
      "Epoch = 15, 1 - train_loss = 0.8918425496069984\n"
     ]
    },
    {
     "name": "stderr",
     "output_type": "stream",
     "text": [
      "100%|██████████| 250/250 [00:33<00:00,  7.40it/s]\n",
      "[2024-03-13 00:02:40,909]::269792397::DEBUG::Epoch = 15, 1 - valid_loss = 0.8987629984021187\n"
     ]
    },
    {
     "name": "stdout",
     "output_type": "stream",
     "text": [
      "Epoch = 15, 1 - val_loss = 0.8987629984021187\n",
      "\n",
      "\n"
     ]
    },
    {
     "name": "stderr",
     "output_type": "stream",
     "text": [
      "100%|██████████| 748/748 [05:16<00:00,  2.36it/s]\n",
      "[2024-03-13 00:07:58,021]::269792397::DEBUG::Epoch = 16, 1 - train_loss = 0.8938663429157301\n"
     ]
    },
    {
     "name": "stdout",
     "output_type": "stream",
     "text": [
      "Epoch = 16, 1 - train_loss = 0.8938663429157301\n"
     ]
    },
    {
     "name": "stderr",
     "output_type": "stream",
     "text": [
      "100%|██████████| 250/250 [00:34<00:00,  7.34it/s]\n",
      "[2024-03-13 00:08:32,099]::269792397::DEBUG::Epoch = 16, 1 - valid_loss = 0.9070111006051302\n"
     ]
    },
    {
     "name": "stdout",
     "output_type": "stream",
     "text": [
      "Epoch = 16, 1 - val_loss = 0.9070111006051302\n",
      "\n",
      "\n"
     ]
    },
    {
     "name": "stderr",
     "output_type": "stream",
     "text": [
      "100%|██████████| 748/748 [05:17<00:00,  2.36it/s]\n",
      "[2024-03-13 00:13:49,382]::269792397::DEBUG::Epoch = 17, 1 - train_loss = 0.8972391883748021\n"
     ]
    },
    {
     "name": "stdout",
     "output_type": "stream",
     "text": [
      "Epoch = 17, 1 - train_loss = 0.8972391883748021\n"
     ]
    },
    {
     "name": "stderr",
     "output_type": "stream",
     "text": [
      "100%|██████████| 250/250 [00:33<00:00,  7.36it/s]\n",
      "[2024-03-13 00:14:23,371]::269792397::DEBUG::Epoch = 17, 1 - valid_loss = 0.9022944818586112\n"
     ]
    },
    {
     "name": "stdout",
     "output_type": "stream",
     "text": [
      "Epoch = 17, 1 - val_loss = 0.9022944818586112\n",
      "\n",
      "\n"
     ]
    },
    {
     "name": "stderr",
     "output_type": "stream",
     "text": [
      "100%|██████████| 748/748 [05:16<00:00,  2.36it/s]\n",
      "[2024-03-13 00:19:40,278]::269792397::DEBUG::Epoch = 18, 1 - train_loss = 0.8993148282967149\n"
     ]
    },
    {
     "name": "stdout",
     "output_type": "stream",
     "text": [
      "Epoch = 18, 1 - train_loss = 0.8993148282967149\n"
     ]
    },
    {
     "name": "stderr",
     "output_type": "stream",
     "text": [
      "100%|██████████| 250/250 [00:34<00:00,  7.31it/s]\n",
      "[2024-03-13 00:20:14,469]::269792397::DEBUG::Epoch = 18, 1 - valid_loss = 0.9056294483691454\n"
     ]
    },
    {
     "name": "stdout",
     "output_type": "stream",
     "text": [
      "Epoch = 18, 1 - val_loss = 0.9056294483691454\n",
      "\n",
      "\n"
     ]
    },
    {
     "name": "stderr",
     "output_type": "stream",
     "text": [
      "100%|██████████| 748/748 [05:17<00:00,  2.36it/s]\n",
      "[2024-03-13 00:25:31,658]::269792397::DEBUG::Epoch = 19, 1 - train_loss = 0.900677867871236\n"
     ]
    },
    {
     "name": "stdout",
     "output_type": "stream",
     "text": [
      "Epoch = 19, 1 - train_loss = 0.900677867871236\n"
     ]
    },
    {
     "name": "stderr",
     "output_type": "stream",
     "text": [
      "100%|██████████| 250/250 [00:34<00:00,  7.34it/s]\n",
      "[2024-03-13 00:26:05,709]::269792397::DEBUG::Epoch = 19, 1 - valid_loss = 0.9079080753773451\n"
     ]
    },
    {
     "name": "stdout",
     "output_type": "stream",
     "text": [
      "Epoch = 19, 1 - val_loss = 0.9079080753773451\n",
      "\n",
      "\n"
     ]
    },
    {
     "name": "stderr",
     "output_type": "stream",
     "text": [
      "100%|██████████| 748/748 [05:16<00:00,  2.36it/s]\n",
      "[2024-03-13 00:31:22,863]::269792397::DEBUG::Epoch = 20, 1 - train_loss = 0.9025359590024872\n"
     ]
    },
    {
     "name": "stdout",
     "output_type": "stream",
     "text": [
      "Epoch = 20, 1 - train_loss = 0.9025359590024872\n"
     ]
    },
    {
     "name": "stderr",
     "output_type": "stream",
     "text": [
      "100%|██████████| 250/250 [00:33<00:00,  7.36it/s]\n",
      "[2024-03-13 00:31:56,835]::269792397::DEBUG::Epoch = 20, 1 - valid_loss = 0.9080542047768831\n"
     ]
    },
    {
     "name": "stdout",
     "output_type": "stream",
     "text": [
      "Epoch = 20, 1 - val_loss = 0.9080542047768831\n",
      "\n",
      "\n"
     ]
    },
    {
     "name": "stderr",
     "output_type": "stream",
     "text": [
      "100%|██████████| 748/748 [05:16<00:00,  2.36it/s]\n",
      "[2024-03-13 00:37:13,859]::269792397::DEBUG::Epoch = 21, 1 - train_loss = 0.9050741634695207\n"
     ]
    },
    {
     "name": "stdout",
     "output_type": "stream",
     "text": [
      "Epoch = 21, 1 - train_loss = 0.9050741634695207\n"
     ]
    },
    {
     "name": "stderr",
     "output_type": "stream",
     "text": [
      "100%|██████████| 250/250 [00:33<00:00,  7.39it/s]\n",
      "[2024-03-13 00:37:47,707]::269792397::DEBUG::Epoch = 21, 1 - valid_loss = 0.9092302825599909\n"
     ]
    },
    {
     "name": "stdout",
     "output_type": "stream",
     "text": [
      "Epoch = 21, 1 - val_loss = 0.9092302825599909\n",
      "\n",
      "\n"
     ]
    },
    {
     "name": "stderr",
     "output_type": "stream",
     "text": [
      "100%|██████████| 748/748 [05:17<00:00,  2.36it/s]\n",
      "[2024-03-13 00:43:05,134]::269792397::DEBUG::Epoch = 22, 1 - train_loss = 0.9077618960639771\n"
     ]
    },
    {
     "name": "stdout",
     "output_type": "stream",
     "text": [
      "Epoch = 22, 1 - train_loss = 0.9077618960639771\n"
     ]
    },
    {
     "name": "stderr",
     "output_type": "stream",
     "text": [
      "100%|██████████| 250/250 [00:33<00:00,  7.40it/s]\n",
      "[2024-03-13 00:43:38,943]::269792397::DEBUG::Epoch = 22, 1 - valid_loss = 0.904932678386569\n"
     ]
    },
    {
     "name": "stdout",
     "output_type": "stream",
     "text": [
      "Epoch = 22, 1 - val_loss = 0.904932678386569\n",
      "\n",
      "\n"
     ]
    },
    {
     "name": "stderr",
     "output_type": "stream",
     "text": [
      "100%|██████████| 748/748 [05:17<00:00,  2.36it/s]\n",
      "[2024-03-13 00:48:56,190]::269792397::DEBUG::Epoch = 23, 1 - train_loss = 0.9073878694973129\n"
     ]
    },
    {
     "name": "stdout",
     "output_type": "stream",
     "text": [
      "Epoch = 23, 1 - train_loss = 0.9073878694973129\n"
     ]
    },
    {
     "name": "stderr",
     "output_type": "stream",
     "text": [
      "100%|██████████| 250/250 [00:33<00:00,  7.37it/s]\n",
      "[2024-03-13 00:49:30,124]::269792397::DEBUG::Epoch = 23, 1 - valid_loss = 0.9099253021776676\n"
     ]
    },
    {
     "name": "stdout",
     "output_type": "stream",
     "text": [
      "Epoch = 23, 1 - val_loss = 0.9099253021776676\n",
      "\n",
      "\n"
     ]
    },
    {
     "name": "stderr",
     "output_type": "stream",
     "text": [
      "100%|██████████| 748/748 [05:17<00:00,  2.36it/s]\n",
      "[2024-03-13 00:54:47,463]::269792397::DEBUG::Epoch = 24, 1 - train_loss = 0.9084747964317068\n"
     ]
    },
    {
     "name": "stdout",
     "output_type": "stream",
     "text": [
      "Epoch = 24, 1 - train_loss = 0.9084747964317068\n"
     ]
    },
    {
     "name": "stderr",
     "output_type": "stream",
     "text": [
      "100%|██████████| 250/250 [00:33<00:00,  7.37it/s]\n",
      "[2024-03-13 00:55:21,391]::269792397::DEBUG::Epoch = 24, 1 - valid_loss = 0.9096703528314829\n"
     ]
    },
    {
     "name": "stdout",
     "output_type": "stream",
     "text": [
      "Epoch = 24, 1 - val_loss = 0.9096703528314829\n",
      "\n",
      "\n"
     ]
    },
    {
     "name": "stderr",
     "output_type": "stream",
     "text": [
      "100%|██████████| 748/748 [05:16<00:00,  2.36it/s]\n",
      "[2024-03-13 01:00:37,963]::269792397::DEBUG::Epoch = 25, 1 - train_loss = 0.9105705531752285\n"
     ]
    },
    {
     "name": "stdout",
     "output_type": "stream",
     "text": [
      "Epoch = 25, 1 - train_loss = 0.9105705531752285\n"
     ]
    },
    {
     "name": "stderr",
     "output_type": "stream",
     "text": [
      "100%|██████████| 250/250 [00:33<00:00,  7.40it/s]\n",
      "[2024-03-13 01:01:11,769]::269792397::DEBUG::Epoch = 25, 1 - valid_loss = 0.9084939994812011\n"
     ]
    },
    {
     "name": "stdout",
     "output_type": "stream",
     "text": [
      "Epoch = 25, 1 - val_loss = 0.9084939994812011\n",
      "\n",
      "\n"
     ]
    },
    {
     "name": "stderr",
     "output_type": "stream",
     "text": [
      "100%|██████████| 748/748 [05:17<00:00,  2.36it/s]\n",
      "[2024-03-13 01:06:28,985]::269792397::DEBUG::Epoch = 26, 1 - train_loss = 0.912449990742825\n"
     ]
    },
    {
     "name": "stdout",
     "output_type": "stream",
     "text": [
      "Epoch = 26, 1 - train_loss = 0.912449990742825\n"
     ]
    },
    {
     "name": "stderr",
     "output_type": "stream",
     "text": [
      "100%|██████████| 250/250 [00:33<00:00,  7.38it/s]\n",
      "[2024-03-13 01:07:02,886]::269792397::DEBUG::Epoch = 26, 1 - valid_loss = 0.8947018067538738\n"
     ]
    },
    {
     "name": "stdout",
     "output_type": "stream",
     "text": [
      "Epoch = 26, 1 - val_loss = 0.8947018067538738\n",
      "\n",
      "\n"
     ]
    },
    {
     "name": "stderr",
     "output_type": "stream",
     "text": [
      "100%|██████████| 748/748 [05:17<00:00,  2.36it/s]\n",
      "[2024-03-13 01:12:20,443]::269792397::DEBUG::Epoch = 27, 1 - train_loss = 0.9129064323450314\n"
     ]
    },
    {
     "name": "stdout",
     "output_type": "stream",
     "text": [
      "Epoch = 27, 1 - train_loss = 0.9129064323450314\n"
     ]
    },
    {
     "name": "stderr",
     "output_type": "stream",
     "text": [
      "100%|██████████| 250/250 [00:33<00:00,  7.36it/s]\n",
      "[2024-03-13 01:12:54,438]::269792397::DEBUG::Epoch = 27, 1 - valid_loss = 0.8956779654175043\n"
     ]
    },
    {
     "name": "stdout",
     "output_type": "stream",
     "text": [
      "Epoch = 27, 1 - val_loss = 0.8956779654175043\n",
      "\n",
      "\n"
     ]
    },
    {
     "name": "stderr",
     "output_type": "stream",
     "text": [
      "100%|██████████| 748/748 [05:17<00:00,  2.36it/s]\n",
      "[2024-03-13 01:18:11,782]::269792397::DEBUG::Epoch = 28, 1 - train_loss = 0.9147553698802218\n"
     ]
    },
    {
     "name": "stdout",
     "output_type": "stream",
     "text": [
      "Epoch = 28, 1 - train_loss = 0.9147553698802218\n"
     ]
    },
    {
     "name": "stderr",
     "output_type": "stream",
     "text": [
      "100%|██████████| 250/250 [00:33<00:00,  7.36it/s]\n",
      "[2024-03-13 01:18:45,769]::269792397::DEBUG::Epoch = 28, 1 - valid_loss = 0.8901546510607005\n"
     ]
    },
    {
     "name": "stdout",
     "output_type": "stream",
     "text": [
      "Epoch = 28, 1 - val_loss = 0.8901546510607005\n",
      "\n",
      "\n"
     ]
    },
    {
     "name": "stderr",
     "output_type": "stream",
     "text": [
      "100%|██████████| 748/748 [05:17<00:00,  2.36it/s]\n",
      "[2024-03-13 01:24:03,174]::269792397::DEBUG::Epoch = 29, 1 - train_loss = 0.9150816712398978\n"
     ]
    },
    {
     "name": "stdout",
     "output_type": "stream",
     "text": [
      "Epoch = 29, 1 - train_loss = 0.9150816712398978\n"
     ]
    },
    {
     "name": "stderr",
     "output_type": "stream",
     "text": [
      "100%|██████████| 250/250 [00:33<00:00,  7.38it/s]\n",
      "[2024-03-13 01:24:37,055]::269792397::DEBUG::Epoch = 29, 1 - valid_loss = 0.8951429256796837\n"
     ]
    },
    {
     "name": "stdout",
     "output_type": "stream",
     "text": [
      "Epoch = 29, 1 - val_loss = 0.8951429256796837\n",
      "\n",
      "\n"
     ]
    },
    {
     "name": "stderr",
     "output_type": "stream",
     "text": [
      "100%|██████████| 748/748 [05:17<00:00,  2.36it/s]\n",
      "[2024-03-13 01:29:54,537]::269792397::DEBUG::Epoch = 30, 1 - train_loss = 0.9155817081265271\n"
     ]
    },
    {
     "name": "stdout",
     "output_type": "stream",
     "text": [
      "Epoch = 30, 1 - train_loss = 0.9155817081265271\n"
     ]
    },
    {
     "name": "stderr",
     "output_type": "stream",
     "text": [
      "100%|██████████| 250/250 [00:33<00:00,  7.40it/s]\n",
      "[2024-03-13 01:30:28,347]::269792397::DEBUG::Epoch = 30, 1 - valid_loss = 0.8879976188838482\n"
     ]
    },
    {
     "name": "stdout",
     "output_type": "stream",
     "text": [
      "Epoch = 30, 1 - val_loss = 0.8879976188838482\n",
      "\n",
      "\n"
     ]
    },
    {
     "name": "stderr",
     "output_type": "stream",
     "text": [
      "100%|██████████| 748/748 [05:16<00:00,  2.36it/s]\n",
      "[2024-03-13 01:35:45,333]::269792397::DEBUG::Epoch = 31, 1 - train_loss = 0.9161307688473779\n"
     ]
    },
    {
     "name": "stdout",
     "output_type": "stream",
     "text": [
      "Epoch = 31, 1 - train_loss = 0.9161307688473779\n"
     ]
    },
    {
     "name": "stderr",
     "output_type": "stream",
     "text": [
      "100%|██████████| 250/250 [00:33<00:00,  7.38it/s]\n",
      "[2024-03-13 01:36:19,218]::269792397::DEBUG::Epoch = 31, 1 - valid_loss = 0.8787836002409458\n"
     ]
    },
    {
     "name": "stdout",
     "output_type": "stream",
     "text": [
      "Epoch = 31, 1 - val_loss = 0.8787836002409458\n",
      "\n",
      "\n"
     ]
    },
    {
     "name": "stderr",
     "output_type": "stream",
     "text": [
      "100%|██████████| 748/748 [05:17<00:00,  2.36it/s]\n",
      "[2024-03-13 01:41:36,431]::269792397::DEBUG::Epoch = 32, 1 - train_loss = 0.9176552666869154\n"
     ]
    },
    {
     "name": "stdout",
     "output_type": "stream",
     "text": [
      "Epoch = 32, 1 - train_loss = 0.9176552666869154\n"
     ]
    },
    {
     "name": "stderr",
     "output_type": "stream",
     "text": [
      "100%|██████████| 250/250 [00:33<00:00,  7.37it/s]\n",
      "[2024-03-13 01:42:10,350]::269792397::DEBUG::Epoch = 32, 1 - valid_loss = 0.8747873872816563\n"
     ]
    },
    {
     "name": "stdout",
     "output_type": "stream",
     "text": [
      "Epoch = 32, 1 - val_loss = 0.8747873872816563\n",
      "\n",
      "\n"
     ]
    },
    {
     "name": "stderr",
     "output_type": "stream",
     "text": [
      "100%|██████████| 748/748 [05:16<00:00,  2.36it/s]\n",
      "[2024-03-13 01:47:27,465]::269792397::DEBUG::Epoch = 33, 1 - train_loss = 0.9185396463655054\n"
     ]
    },
    {
     "name": "stdout",
     "output_type": "stream",
     "text": [
      "Epoch = 33, 1 - train_loss = 0.9185396463655054\n"
     ]
    },
    {
     "name": "stderr",
     "output_type": "stream",
     "text": [
      "100%|██████████| 250/250 [00:33<00:00,  7.38it/s]\n",
      "[2024-03-13 01:48:01,359]::269792397::DEBUG::Epoch = 33, 1 - valid_loss = 0.8930518970638514\n"
     ]
    },
    {
     "name": "stdout",
     "output_type": "stream",
     "text": [
      "Epoch = 33, 1 - val_loss = 0.8930518970638514\n",
      "\n",
      "\n"
     ]
    },
    {
     "name": "stderr",
     "output_type": "stream",
     "text": [
      "100%|██████████| 748/748 [05:17<00:00,  2.36it/s]\n",
      "[2024-03-13 01:53:19,097]::269792397::DEBUG::Epoch = 34, 1 - train_loss = 0.9192530582484635\n"
     ]
    },
    {
     "name": "stdout",
     "output_type": "stream",
     "text": [
      "Epoch = 34, 1 - train_loss = 0.9192530582484635\n"
     ]
    },
    {
     "name": "stderr",
     "output_type": "stream",
     "text": [
      "100%|██████████| 250/250 [00:33<00:00,  7.38it/s]\n",
      "[2024-03-13 01:53:52,968]::269792397::DEBUG::Epoch = 34, 1 - valid_loss = 0.9026643186807632\n"
     ]
    },
    {
     "name": "stdout",
     "output_type": "stream",
     "text": [
      "Epoch = 34, 1 - val_loss = 0.9026643186807632\n",
      "\n",
      "\n"
     ]
    },
    {
     "name": "stderr",
     "output_type": "stream",
     "text": [
      "100%|██████████| 748/748 [05:17<00:00,  2.36it/s]\n",
      "[2024-03-13 01:59:10,298]::269792397::DEBUG::Epoch = 35, 1 - train_loss = 0.9212331119177734\n"
     ]
    },
    {
     "name": "stdout",
     "output_type": "stream",
     "text": [
      "Epoch = 35, 1 - train_loss = 0.9212331119177734\n"
     ]
    },
    {
     "name": "stderr",
     "output_type": "stream",
     "text": [
      "100%|██████████| 250/250 [00:34<00:00,  7.33it/s]\n",
      "[2024-03-13 01:59:44,398]::269792397::DEBUG::Epoch = 35, 1 - valid_loss = 0.9062270226031541\n"
     ]
    },
    {
     "name": "stdout",
     "output_type": "stream",
     "text": [
      "Epoch = 35, 1 - val_loss = 0.9062270226031541\n",
      "\n",
      "\n"
     ]
    },
    {
     "name": "stderr",
     "output_type": "stream",
     "text": [
      "100%|██████████| 748/748 [05:17<00:00,  2.36it/s]\n",
      "[2024-03-13 02:05:01,874]::269792397::DEBUG::Epoch = 36, 1 - train_loss = 0.9226923223066935\n"
     ]
    },
    {
     "name": "stdout",
     "output_type": "stream",
     "text": [
      "Epoch = 36, 1 - train_loss = 0.9226923223066935\n"
     ]
    },
    {
     "name": "stderr",
     "output_type": "stream",
     "text": [
      "100%|██████████| 250/250 [00:34<00:00,  7.28it/s]\n",
      "[2024-03-13 02:05:36,206]::269792397::DEBUG::Epoch = 36, 1 - valid_loss = 0.9038136721104384\n"
     ]
    },
    {
     "name": "stdout",
     "output_type": "stream",
     "text": [
      "Epoch = 36, 1 - val_loss = 0.9038136721104384\n",
      "\n",
      "\n"
     ]
    },
    {
     "name": "stderr",
     "output_type": "stream",
     "text": [
      "100%|██████████| 748/748 [05:17<00:00,  2.36it/s]\n",
      "[2024-03-13 02:10:53,697]::269792397::DEBUG::Epoch = 37, 1 - train_loss = 0.9231175632778814\n"
     ]
    },
    {
     "name": "stdout",
     "output_type": "stream",
     "text": [
      "Epoch = 37, 1 - train_loss = 0.9231175632778814\n"
     ]
    },
    {
     "name": "stderr",
     "output_type": "stream",
     "text": [
      "100%|██████████| 250/250 [00:33<00:00,  7.38it/s]\n",
      "[2024-03-13 02:11:27,600]::269792397::DEBUG::Epoch = 37, 1 - valid_loss = 0.9118696398586035\n"
     ]
    },
    {
     "name": "stdout",
     "output_type": "stream",
     "text": [
      "Epoch = 37, 1 - val_loss = 0.9118696398586035\n",
      "\n",
      "\n"
     ]
    },
    {
     "name": "stderr",
     "output_type": "stream",
     "text": [
      "100%|██████████| 748/748 [05:17<00:00,  2.36it/s]\n",
      "[2024-03-13 02:16:44,889]::269792397::DEBUG::Epoch = 38, 1 - train_loss = 0.9235640782962509\n"
     ]
    },
    {
     "name": "stdout",
     "output_type": "stream",
     "text": [
      "Epoch = 38, 1 - train_loss = 0.9235640782962509\n"
     ]
    },
    {
     "name": "stderr",
     "output_type": "stream",
     "text": [
      "100%|██████████| 250/250 [00:33<00:00,  7.38it/s]\n",
      "[2024-03-13 02:17:18,793]::269792397::DEBUG::Epoch = 38, 1 - valid_loss = 0.9120044895708561\n"
     ]
    },
    {
     "name": "stdout",
     "output_type": "stream",
     "text": [
      "Epoch = 38, 1 - val_loss = 0.9120044895708561\n",
      "\n",
      "\n"
     ]
    },
    {
     "name": "stderr",
     "output_type": "stream",
     "text": [
      "100%|██████████| 748/748 [05:17<00:00,  2.36it/s]\n",
      "[2024-03-13 02:22:35,960]::269792397::DEBUG::Epoch = 39, 1 - train_loss = 0.9244462232090493\n"
     ]
    },
    {
     "name": "stdout",
     "output_type": "stream",
     "text": [
      "Epoch = 39, 1 - train_loss = 0.9244462232090493\n"
     ]
    },
    {
     "name": "stderr",
     "output_type": "stream",
     "text": [
      "100%|██████████| 250/250 [00:34<00:00,  7.34it/s]\n",
      "[2024-03-13 02:23:10,043]::269792397::DEBUG::Epoch = 39, 1 - valid_loss = 0.9126040959060192\n"
     ]
    },
    {
     "name": "stdout",
     "output_type": "stream",
     "text": [
      "Epoch = 39, 1 - val_loss = 0.9126040959060192\n",
      "\n",
      "\n"
     ]
    },
    {
     "name": "stderr",
     "output_type": "stream",
     "text": [
      "100%|██████████| 748/748 [05:17<00:00,  2.36it/s]\n",
      "[2024-03-13 02:28:27,688]::269792397::DEBUG::Epoch = 40, 1 - train_loss = 0.9255367371398099\n"
     ]
    },
    {
     "name": "stdout",
     "output_type": "stream",
     "text": [
      "Epoch = 40, 1 - train_loss = 0.9255367371398099\n"
     ]
    },
    {
     "name": "stderr",
     "output_type": "stream",
     "text": [
      "100%|██████████| 250/250 [00:34<00:00,  7.33it/s]\n",
      "[2024-03-13 02:29:01,817]::269792397::DEBUG::Epoch = 40, 1 - valid_loss = 0.9122213757634163\n"
     ]
    },
    {
     "name": "stdout",
     "output_type": "stream",
     "text": [
      "Epoch = 40, 1 - val_loss = 0.9122213757634163\n",
      "\n",
      "\n"
     ]
    },
    {
     "name": "stderr",
     "output_type": "stream",
     "text": [
      "100%|██████████| 748/748 [05:17<00:00,  2.36it/s]\n",
      "[2024-03-13 02:34:19,121]::269792397::DEBUG::Epoch = 41, 1 - train_loss = 0.9261516315294778\n"
     ]
    },
    {
     "name": "stdout",
     "output_type": "stream",
     "text": [
      "Epoch = 41, 1 - train_loss = 0.9261516315294778\n"
     ]
    },
    {
     "name": "stderr",
     "output_type": "stream",
     "text": [
      "100%|██████████| 250/250 [00:34<00:00,  7.35it/s]\n",
      "[2024-03-13 02:34:53,157]::269792397::DEBUG::Epoch = 41, 1 - valid_loss = 0.9124655608385801\n"
     ]
    },
    {
     "name": "stdout",
     "output_type": "stream",
     "text": [
      "Epoch = 41, 1 - val_loss = 0.9124655608385801\n",
      "\n",
      "\n"
     ]
    },
    {
     "name": "stderr",
     "output_type": "stream",
     "text": [
      "100%|██████████| 748/748 [05:17<00:00,  2.36it/s]\n",
      "[2024-03-13 02:40:10,853]::269792397::DEBUG::Epoch = 42, 1 - train_loss = 0.926252574794353\n"
     ]
    },
    {
     "name": "stdout",
     "output_type": "stream",
     "text": [
      "Epoch = 42, 1 - train_loss = 0.926252574794353\n"
     ]
    },
    {
     "name": "stderr",
     "output_type": "stream",
     "text": [
      "100%|██████████| 250/250 [00:34<00:00,  7.34it/s]\n",
      "[2024-03-13 02:40:44,941]::269792397::DEBUG::Epoch = 42, 1 - valid_loss = 0.9112296691834927\n"
     ]
    },
    {
     "name": "stdout",
     "output_type": "stream",
     "text": [
      "Epoch = 42, 1 - val_loss = 0.9112296691834927\n",
      "\n",
      "\n"
     ]
    },
    {
     "name": "stderr",
     "output_type": "stream",
     "text": [
      "100%|██████████| 748/748 [05:17<00:00,  2.36it/s]\n",
      "[2024-03-13 02:46:02,608]::269792397::DEBUG::Epoch = 43, 1 - train_loss = 0.9271041120198321\n"
     ]
    },
    {
     "name": "stdout",
     "output_type": "stream",
     "text": [
      "Epoch = 43, 1 - train_loss = 0.9271041120198321\n"
     ]
    },
    {
     "name": "stderr",
     "output_type": "stream",
     "text": [
      "100%|██████████| 250/250 [00:34<00:00,  7.34it/s]\n",
      "[2024-03-13 02:46:36,683]::269792397::DEBUG::Epoch = 43, 1 - valid_loss = 0.9103407224863768\n"
     ]
    },
    {
     "name": "stdout",
     "output_type": "stream",
     "text": [
      "Epoch = 43, 1 - val_loss = 0.9103407224863768\n",
      "\n",
      "\n"
     ]
    },
    {
     "name": "stderr",
     "output_type": "stream",
     "text": [
      "100%|██████████| 748/748 [05:17<00:00,  2.36it/s]\n",
      "[2024-03-13 02:51:54,077]::269792397::DEBUG::Epoch = 44, 1 - train_loss = 0.9270996068639152\n"
     ]
    },
    {
     "name": "stdout",
     "output_type": "stream",
     "text": [
      "Epoch = 44, 1 - train_loss = 0.9270996068639152\n"
     ]
    },
    {
     "name": "stderr",
     "output_type": "stream",
     "text": [
      "100%|██████████| 250/250 [00:33<00:00,  7.36it/s]\n",
      "[2024-03-13 02:52:28,068]::269792397::DEBUG::Epoch = 44, 1 - valid_loss = 0.9105183732360601\n"
     ]
    },
    {
     "name": "stdout",
     "output_type": "stream",
     "text": [
      "Epoch = 44, 1 - val_loss = 0.9105183732360601\n",
      "\n",
      "\n"
     ]
    },
    {
     "name": "stderr",
     "output_type": "stream",
     "text": [
      "100%|██████████| 748/748 [05:17<00:00,  2.36it/s]\n",
      "[2024-03-13 02:57:45,499]::269792397::DEBUG::Epoch = 45, 1 - train_loss = 0.9278196318294195\n"
     ]
    },
    {
     "name": "stdout",
     "output_type": "stream",
     "text": [
      "Epoch = 45, 1 - train_loss = 0.9278196318294195\n"
     ]
    },
    {
     "name": "stderr",
     "output_type": "stream",
     "text": [
      "100%|██████████| 250/250 [00:33<00:00,  7.39it/s]\n",
      "[2024-03-13 02:58:19,340]::269792397::DEBUG::Epoch = 45, 1 - valid_loss = 0.9089220023751259\n"
     ]
    },
    {
     "name": "stdout",
     "output_type": "stream",
     "text": [
      "Epoch = 45, 1 - val_loss = 0.9089220023751259\n",
      "\n",
      "\n"
     ]
    },
    {
     "name": "stderr",
     "output_type": "stream",
     "text": [
      "100%|██████████| 748/748 [05:17<00:00,  2.36it/s]\n",
      "[2024-03-13 03:03:36,695]::269792397::DEBUG::Epoch = 46, 1 - train_loss = 0.9294938665919285\n"
     ]
    },
    {
     "name": "stdout",
     "output_type": "stream",
     "text": [
      "Epoch = 46, 1 - train_loss = 0.9294938665919285\n"
     ]
    },
    {
     "name": "stderr",
     "output_type": "stream",
     "text": [
      "100%|██████████| 250/250 [00:33<00:00,  7.41it/s]\n",
      "[2024-03-13 03:04:10,433]::269792397::DEBUG::Epoch = 46, 1 - valid_loss = 0.9120154487341643\n"
     ]
    },
    {
     "name": "stdout",
     "output_type": "stream",
     "text": [
      "Epoch = 46, 1 - val_loss = 0.9120154487341643\n",
      "\n",
      "\n"
     ]
    },
    {
     "name": "stderr",
     "output_type": "stream",
     "text": [
      "100%|██████████| 748/748 [05:17<00:00,  2.36it/s]\n",
      "[2024-03-13 03:09:27,713]::269792397::DEBUG::Epoch = 47, 1 - train_loss = 0.9299517935490544\n"
     ]
    },
    {
     "name": "stdout",
     "output_type": "stream",
     "text": [
      "Epoch = 47, 1 - train_loss = 0.9299517935490544\n"
     ]
    },
    {
     "name": "stderr",
     "output_type": "stream",
     "text": [
      "100%|██████████| 250/250 [00:34<00:00,  7.33it/s]\n",
      "[2024-03-13 03:10:01,823]::269792397::DEBUG::Epoch = 47, 1 - valid_loss = 0.910464463442564\n"
     ]
    },
    {
     "name": "stdout",
     "output_type": "stream",
     "text": [
      "Epoch = 47, 1 - val_loss = 0.910464463442564\n",
      "\n",
      "\n"
     ]
    },
    {
     "name": "stderr",
     "output_type": "stream",
     "text": [
      "100%|██████████| 748/748 [05:17<00:00,  2.36it/s]\n",
      "[2024-03-13 03:15:19,166]::269792397::DEBUG::Epoch = 48, 1 - train_loss = 0.929954642952883\n"
     ]
    },
    {
     "name": "stdout",
     "output_type": "stream",
     "text": [
      "Epoch = 48, 1 - train_loss = 0.929954642952883\n"
     ]
    },
    {
     "name": "stderr",
     "output_type": "stream",
     "text": [
      "100%|██████████| 250/250 [00:33<00:00,  7.38it/s]\n",
      "[2024-03-13 03:15:53,064]::269792397::DEBUG::Epoch = 48, 1 - valid_loss = 0.9117081202566624\n"
     ]
    },
    {
     "name": "stdout",
     "output_type": "stream",
     "text": [
      "Epoch = 48, 1 - val_loss = 0.9117081202566624\n",
      "\n",
      "\n"
     ]
    },
    {
     "name": "stderr",
     "output_type": "stream",
     "text": [
      "100%|██████████| 748/748 [05:17<00:00,  2.36it/s]\n",
      "[2024-03-13 03:21:10,632]::269792397::DEBUG::Epoch = 49, 1 - train_loss = 0.9304691726979326\n"
     ]
    },
    {
     "name": "stdout",
     "output_type": "stream",
     "text": [
      "Epoch = 49, 1 - train_loss = 0.9304691726979326\n"
     ]
    },
    {
     "name": "stderr",
     "output_type": "stream",
     "text": [
      "100%|██████████| 250/250 [00:33<00:00,  7.37it/s]\n",
      "[2024-03-13 03:21:44,558]::269792397::DEBUG::Epoch = 49, 1 - valid_loss = 0.9113655171990395\n"
     ]
    },
    {
     "name": "stdout",
     "output_type": "stream",
     "text": [
      "Epoch = 49, 1 - val_loss = 0.9113655171990395\n",
      "\n",
      "\n"
     ]
    },
    {
     "name": "stderr",
     "output_type": "stream",
     "text": [
      "100%|██████████| 748/748 [05:17<00:00,  2.36it/s]\n",
      "[2024-03-13 03:27:02,006]::269792397::DEBUG::Epoch = 50, 1 - train_loss = 0.9306577703900596\n"
     ]
    },
    {
     "name": "stdout",
     "output_type": "stream",
     "text": [
      "Epoch = 50, 1 - train_loss = 0.9306577703900596\n"
     ]
    },
    {
     "name": "stderr",
     "output_type": "stream",
     "text": [
      "100%|██████████| 250/250 [00:33<00:00,  7.37it/s]\n",
      "[2024-03-13 03:27:35,949]::269792397::DEBUG::Epoch = 50, 1 - valid_loss = 0.9121298215389252\n"
     ]
    },
    {
     "name": "stdout",
     "output_type": "stream",
     "text": [
      "Epoch = 50, 1 - val_loss = 0.9121298215389252\n",
      "\n",
      "\n"
     ]
    },
    {
     "name": "stderr",
     "output_type": "stream",
     "text": [
      "100%|██████████| 748/748 [05:17<00:00,  2.36it/s]\n",
      "[2024-03-13 03:32:53,407]::269792397::DEBUG::Epoch = 51, 1 - train_loss = 0.931990418573194\n"
     ]
    },
    {
     "name": "stdout",
     "output_type": "stream",
     "text": [
      "Epoch = 51, 1 - train_loss = 0.931990418573194\n"
     ]
    },
    {
     "name": "stderr",
     "output_type": "stream",
     "text": [
      "100%|██████████| 250/250 [00:34<00:00,  7.35it/s]\n",
      "[2024-03-13 03:33:27,429]::269792397::DEBUG::Epoch = 51, 1 - valid_loss = 0.9120834899246693\n"
     ]
    },
    {
     "name": "stdout",
     "output_type": "stream",
     "text": [
      "Epoch = 51, 1 - val_loss = 0.9120834899246693\n",
      "\n",
      "\n"
     ]
    },
    {
     "name": "stderr",
     "output_type": "stream",
     "text": [
      "100%|██████████| 748/748 [05:16<00:00,  2.36it/s]\n",
      "[2024-03-13 03:38:44,401]::269792397::DEBUG::Epoch = 52, 1 - train_loss = 0.9327086679547786\n"
     ]
    },
    {
     "name": "stdout",
     "output_type": "stream",
     "text": [
      "Epoch = 52, 1 - train_loss = 0.9327086679547786\n"
     ]
    },
    {
     "name": "stderr",
     "output_type": "stream",
     "text": [
      "100%|██████████| 250/250 [00:34<00:00,  7.28it/s]\n",
      "[2024-03-13 03:39:18,731]::269792397::DEBUG::Epoch = 52, 1 - valid_loss = 0.9114751452505588\n"
     ]
    },
    {
     "name": "stdout",
     "output_type": "stream",
     "text": [
      "Epoch = 52, 1 - val_loss = 0.9114751452505588\n",
      "\n",
      "\n"
     ]
    },
    {
     "name": "stderr",
     "output_type": "stream",
     "text": [
      "100%|██████████| 748/748 [05:17<00:00,  2.36it/s]\n",
      "[2024-03-13 03:44:36,047]::269792397::DEBUG::Epoch = 53, 1 - train_loss = 0.9332633318758027\n"
     ]
    },
    {
     "name": "stdout",
     "output_type": "stream",
     "text": [
      "Epoch = 53, 1 - train_loss = 0.9332633318758027\n"
     ]
    },
    {
     "name": "stderr",
     "output_type": "stream",
     "text": [
      "100%|██████████| 250/250 [00:34<00:00,  7.34it/s]\n",
      "[2024-03-13 03:45:10,104]::269792397::DEBUG::Epoch = 53, 1 - valid_loss = 0.9115299411714077\n"
     ]
    },
    {
     "name": "stdout",
     "output_type": "stream",
     "text": [
      "Epoch = 53, 1 - val_loss = 0.9115299411714077\n",
      "\n",
      "\n"
     ]
    },
    {
     "name": "stderr",
     "output_type": "stream",
     "text": [
      "100%|██████████| 748/748 [05:17<00:00,  2.36it/s]\n",
      "[2024-03-13 03:50:27,430]::269792397::DEBUG::Epoch = 54, 1 - train_loss = 0.9332161600487356\n"
     ]
    },
    {
     "name": "stdout",
     "output_type": "stream",
     "text": [
      "Epoch = 54, 1 - train_loss = 0.9332161600487356\n"
     ]
    },
    {
     "name": "stderr",
     "output_type": "stream",
     "text": [
      "100%|██████████| 250/250 [00:34<00:00,  7.35it/s]\n",
      "[2024-03-13 03:51:01,471]::269792397::DEBUG::Epoch = 54, 1 - valid_loss = 0.9090377804934978\n"
     ]
    },
    {
     "name": "stdout",
     "output_type": "stream",
     "text": [
      "Epoch = 54, 1 - val_loss = 0.9090377804934978\n",
      "\n",
      "\n"
     ]
    },
    {
     "name": "stderr",
     "output_type": "stream",
     "text": [
      "100%|██████████| 748/748 [05:16<00:00,  2.36it/s]\n",
      "[2024-03-13 03:56:18,451]::269792397::DEBUG::Epoch = 55, 1 - train_loss = 0.9337349391049322\n"
     ]
    },
    {
     "name": "stdout",
     "output_type": "stream",
     "text": [
      "Epoch = 55, 1 - train_loss = 0.9337349391049322\n"
     ]
    },
    {
     "name": "stderr",
     "output_type": "stream",
     "text": [
      "100%|██████████| 250/250 [00:33<00:00,  7.38it/s]\n",
      "[2024-03-13 03:56:52,329]::269792397::DEBUG::Epoch = 55, 1 - valid_loss = 0.9122636902034282\n"
     ]
    },
    {
     "name": "stdout",
     "output_type": "stream",
     "text": [
      "Epoch = 55, 1 - val_loss = 0.9122636902034282\n",
      "\n",
      "\n"
     ]
    },
    {
     "name": "stderr",
     "output_type": "stream",
     "text": [
      "100%|██████████| 748/748 [05:17<00:00,  2.36it/s]\n",
      "[2024-03-13 04:02:09,974]::269792397::DEBUG::Epoch = 56, 1 - train_loss = 0.9340300652631782\n"
     ]
    },
    {
     "name": "stdout",
     "output_type": "stream",
     "text": [
      "Epoch = 56, 1 - train_loss = 0.9340300652631782\n"
     ]
    },
    {
     "name": "stderr",
     "output_type": "stream",
     "text": [
      "100%|██████████| 250/250 [00:34<00:00,  7.33it/s]\n",
      "[2024-03-13 04:02:44,100]::269792397::DEBUG::Epoch = 56, 1 - valid_loss = 0.9107919718176126\n"
     ]
    },
    {
     "name": "stdout",
     "output_type": "stream",
     "text": [
      "Epoch = 56, 1 - val_loss = 0.9107919718176126\n",
      "\n",
      "\n"
     ]
    },
    {
     "name": "stderr",
     "output_type": "stream",
     "text": [
      "100%|██████████| 748/748 [05:17<00:00,  2.36it/s]\n",
      "[2024-03-13 04:08:01,671]::269792397::DEBUG::Epoch = 57, 1 - train_loss = 0.9351580799930794\n"
     ]
    },
    {
     "name": "stdout",
     "output_type": "stream",
     "text": [
      "Epoch = 57, 1 - train_loss = 0.9351580799930794\n"
     ]
    },
    {
     "name": "stderr",
     "output_type": "stream",
     "text": [
      "100%|██████████| 250/250 [00:33<00:00,  7.41it/s]\n",
      "[2024-03-13 04:08:35,440]::269792397::DEBUG::Epoch = 57, 1 - valid_loss = 0.9116943485587835\n"
     ]
    },
    {
     "name": "stdout",
     "output_type": "stream",
     "text": [
      "Epoch = 57, 1 - val_loss = 0.9116943485587835\n",
      "\n",
      "\n"
     ]
    },
    {
     "name": "stderr",
     "output_type": "stream",
     "text": [
      "100%|██████████| 748/748 [05:17<00:00,  2.36it/s]\n",
      "[2024-03-13 04:13:52,953]::269792397::DEBUG::Epoch = 58, 1 - train_loss = 0.934909980261031\n"
     ]
    },
    {
     "name": "stdout",
     "output_type": "stream",
     "text": [
      "Epoch = 58, 1 - train_loss = 0.934909980261031\n"
     ]
    },
    {
     "name": "stderr",
     "output_type": "stream",
     "text": [
      "100%|██████████| 250/250 [00:34<00:00,  7.32it/s]\n",
      "[2024-03-13 04:14:27,099]::269792397::DEBUG::Epoch = 58, 1 - valid_loss = 0.9122298280745744\n"
     ]
    },
    {
     "name": "stdout",
     "output_type": "stream",
     "text": [
      "Epoch = 58, 1 - val_loss = 0.9122298280745744\n",
      "\n",
      "\n"
     ]
    },
    {
     "name": "stderr",
     "output_type": "stream",
     "text": [
      "100%|██████████| 748/748 [05:17<00:00,  2.36it/s]\n",
      "[2024-03-13 04:19:44,721]::269792397::DEBUG::Epoch = 59, 1 - train_loss = 0.9359875859264384\n"
     ]
    },
    {
     "name": "stdout",
     "output_type": "stream",
     "text": [
      "Epoch = 59, 1 - train_loss = 0.9359875859264384\n"
     ]
    },
    {
     "name": "stderr",
     "output_type": "stream",
     "text": [
      "100%|██████████| 250/250 [00:34<00:00,  7.31it/s]\n",
      "[2024-03-13 04:20:18,925]::269792397::DEBUG::Epoch = 59, 1 - valid_loss = 0.9118654238730669\n"
     ]
    },
    {
     "name": "stdout",
     "output_type": "stream",
     "text": [
      "Epoch = 59, 1 - val_loss = 0.9118654238730669\n",
      "\n",
      "\n"
     ]
    },
    {
     "name": "stderr",
     "output_type": "stream",
     "text": [
      "100%|██████████| 748/748 [05:17<00:00,  2.36it/s]\n",
      "[2024-03-13 04:25:36,444]::269792397::DEBUG::Epoch = 60, 1 - train_loss = 0.9356217960264275\n"
     ]
    },
    {
     "name": "stdout",
     "output_type": "stream",
     "text": [
      "Epoch = 60, 1 - train_loss = 0.9356217960264275\n"
     ]
    },
    {
     "name": "stderr",
     "output_type": "stream",
     "text": [
      "100%|██████████| 250/250 [00:33<00:00,  7.37it/s]\n",
      "[2024-03-13 04:26:10,380]::269792397::DEBUG::Epoch = 60, 1 - valid_loss = 0.9119785075336695\n"
     ]
    },
    {
     "name": "stdout",
     "output_type": "stream",
     "text": [
      "Epoch = 60, 1 - val_loss = 0.9119785075336695\n",
      "\n",
      "\n"
     ]
    },
    {
     "name": "stderr",
     "output_type": "stream",
     "text": [
      "100%|██████████| 748/748 [05:17<00:00,  2.35it/s]\n",
      "[2024-03-13 04:31:28,437]::269792397::DEBUG::Epoch = 61, 1 - train_loss = 0.9367521400638124\n"
     ]
    },
    {
     "name": "stdout",
     "output_type": "stream",
     "text": [
      "Epoch = 61, 1 - train_loss = 0.9367521400638124\n"
     ]
    },
    {
     "name": "stderr",
     "output_type": "stream",
     "text": [
      "100%|██████████| 250/250 [00:34<00:00,  7.35it/s]\n",
      "[2024-03-13 04:32:02,471]::269792397::DEBUG::Epoch = 61, 1 - valid_loss = 0.9117269980758429\n"
     ]
    },
    {
     "name": "stdout",
     "output_type": "stream",
     "text": [
      "Epoch = 61, 1 - val_loss = 0.9117269980758429\n",
      "\n",
      "\n"
     ]
    },
    {
     "name": "stderr",
     "output_type": "stream",
     "text": [
      "100%|██████████| 748/748 [05:17<00:00,  2.35it/s]\n",
      "[2024-03-13 04:37:20,384]::269792397::DEBUG::Epoch = 62, 1 - train_loss = 0.9370925695172208\n"
     ]
    },
    {
     "name": "stdout",
     "output_type": "stream",
     "text": [
      "Epoch = 62, 1 - train_loss = 0.9370925695172208\n"
     ]
    },
    {
     "name": "stderr",
     "output_type": "stream",
     "text": [
      "100%|██████████| 250/250 [00:34<00:00,  7.31it/s]\n",
      "[2024-03-13 04:37:54,601]::269792397::DEBUG::Epoch = 62, 1 - valid_loss = 0.9116230687499046\n"
     ]
    },
    {
     "name": "stdout",
     "output_type": "stream",
     "text": [
      "Epoch = 62, 1 - val_loss = 0.9116230687499046\n",
      "\n",
      "\n"
     ]
    },
    {
     "name": "stderr",
     "output_type": "stream",
     "text": [
      "100%|██████████| 748/748 [05:18<00:00,  2.35it/s]\n",
      "[2024-03-13 04:43:13,070]::269792397::DEBUG::Epoch = 63, 1 - train_loss = 0.9376651672347583\n"
     ]
    },
    {
     "name": "stdout",
     "output_type": "stream",
     "text": [
      "Epoch = 63, 1 - train_loss = 0.9376651672347583\n"
     ]
    },
    {
     "name": "stderr",
     "output_type": "stream",
     "text": [
      "100%|██████████| 250/250 [00:34<00:00,  7.32it/s]\n",
      "[2024-03-13 04:43:47,240]::269792397::DEBUG::Epoch = 63, 1 - valid_loss = 0.9111016186624765\n"
     ]
    },
    {
     "name": "stdout",
     "output_type": "stream",
     "text": [
      "Epoch = 63, 1 - val_loss = 0.9111016186624765\n",
      "\n",
      "\n"
     ]
    },
    {
     "name": "stderr",
     "output_type": "stream",
     "text": [
      "100%|██████████| 748/748 [05:17<00:00,  2.35it/s]\n",
      "[2024-03-13 04:49:05,099]::269792397::DEBUG::Epoch = 64, 1 - train_loss = 0.9379730305141386\n"
     ]
    },
    {
     "name": "stdout",
     "output_type": "stream",
     "text": [
      "Epoch = 64, 1 - train_loss = 0.9379730305141386\n"
     ]
    },
    {
     "name": "stderr",
     "output_type": "stream",
     "text": [
      "100%|██████████| 250/250 [00:34<00:00,  7.33it/s]\n",
      "[2024-03-13 04:49:39,191]::269792397::DEBUG::Epoch = 64, 1 - valid_loss = 0.9125261676311494\n"
     ]
    },
    {
     "name": "stdout",
     "output_type": "stream",
     "text": [
      "Epoch = 64, 1 - val_loss = 0.9125261676311494\n",
      "\n",
      "\n"
     ]
    },
    {
     "name": "stderr",
     "output_type": "stream",
     "text": [
      "100%|██████████| 748/748 [05:17<00:00,  2.36it/s]\n",
      "[2024-03-13 04:54:56,471]::269792397::DEBUG::Epoch = 65, 1 - train_loss = 0.9375366259635212\n"
     ]
    },
    {
     "name": "stdout",
     "output_type": "stream",
     "text": [
      "Epoch = 65, 1 - train_loss = 0.9375366259635212\n"
     ]
    },
    {
     "name": "stderr",
     "output_type": "stream",
     "text": [
      "100%|██████████| 250/250 [00:33<00:00,  7.37it/s]\n",
      "[2024-03-13 04:55:30,420]::269792397::DEBUG::Epoch = 65, 1 - valid_loss = 0.9120812263935805\n"
     ]
    },
    {
     "name": "stdout",
     "output_type": "stream",
     "text": [
      "Epoch = 65, 1 - val_loss = 0.9120812263935805\n",
      "\n",
      "\n"
     ]
    },
    {
     "name": "stderr",
     "output_type": "stream",
     "text": [
      "100%|██████████| 748/748 [05:17<00:00,  2.36it/s]\n",
      "[2024-03-13 05:00:47,890]::269792397::DEBUG::Epoch = 66, 1 - train_loss = 0.938353666532685\n"
     ]
    },
    {
     "name": "stdout",
     "output_type": "stream",
     "text": [
      "Epoch = 66, 1 - train_loss = 0.938353666532685\n"
     ]
    },
    {
     "name": "stderr",
     "output_type": "stream",
     "text": [
      "100%|██████████| 250/250 [00:33<00:00,  7.39it/s]\n",
      "[2024-03-13 05:01:21,750]::269792397::DEBUG::Epoch = 66, 1 - valid_loss = 0.9120489417016506\n"
     ]
    },
    {
     "name": "stdout",
     "output_type": "stream",
     "text": [
      "Epoch = 66, 1 - val_loss = 0.9120489417016506\n",
      "\n",
      "\n"
     ]
    },
    {
     "name": "stderr",
     "output_type": "stream",
     "text": [
      "100%|██████████| 748/748 [05:17<00:00,  2.36it/s]\n",
      "[2024-03-13 05:06:39,411]::269792397::DEBUG::Epoch = 67, 1 - train_loss = 0.9382168409230317\n"
     ]
    },
    {
     "name": "stdout",
     "output_type": "stream",
     "text": [
      "Epoch = 67, 1 - train_loss = 0.9382168409230317\n"
     ]
    },
    {
     "name": "stderr",
     "output_type": "stream",
     "text": [
      "100%|██████████| 250/250 [00:34<00:00,  7.31it/s]\n",
      "[2024-03-13 05:07:13,613]::269792397::DEBUG::Epoch = 67, 1 - valid_loss = 0.9102750354409218\n"
     ]
    },
    {
     "name": "stdout",
     "output_type": "stream",
     "text": [
      "Epoch = 67, 1 - val_loss = 0.9102750354409218\n",
      "\n",
      "\n"
     ]
    },
    {
     "name": "stderr",
     "output_type": "stream",
     "text": [
      "100%|██████████| 748/748 [05:17<00:00,  2.36it/s]\n",
      "[2024-03-13 05:12:31,356]::269792397::DEBUG::Epoch = 68, 1 - train_loss = 0.939556766918955\n"
     ]
    },
    {
     "name": "stdout",
     "output_type": "stream",
     "text": [
      "Epoch = 68, 1 - train_loss = 0.939556766918955\n"
     ]
    },
    {
     "name": "stderr",
     "output_type": "stream",
     "text": [
      "100%|██████████| 250/250 [00:33<00:00,  7.36it/s]\n",
      "[2024-03-13 05:13:05,329]::269792397::DEBUG::Epoch = 68, 1 - valid_loss = 0.9111479650437831\n"
     ]
    },
    {
     "name": "stdout",
     "output_type": "stream",
     "text": [
      "Epoch = 68, 1 - val_loss = 0.9111479650437831\n",
      "\n",
      "\n"
     ]
    },
    {
     "name": "stderr",
     "output_type": "stream",
     "text": [
      "100%|██████████| 748/748 [05:17<00:00,  2.36it/s]\n",
      "[2024-03-13 05:18:22,811]::269792397::DEBUG::Epoch = 69, 1 - train_loss = 0.9393374343517231\n"
     ]
    },
    {
     "name": "stdout",
     "output_type": "stream",
     "text": [
      "Epoch = 69, 1 - train_loss = 0.9393374343517231\n"
     ]
    },
    {
     "name": "stderr",
     "output_type": "stream",
     "text": [
      "100%|██████████| 250/250 [00:34<00:00,  7.29it/s]\n",
      "[2024-03-13 05:18:57,120]::269792397::DEBUG::Epoch = 69, 1 - valid_loss = 0.9119245333075523\n"
     ]
    },
    {
     "name": "stdout",
     "output_type": "stream",
     "text": [
      "Epoch = 69, 1 - val_loss = 0.9119245333075523\n",
      "\n",
      "\n"
     ]
    },
    {
     "name": "stderr",
     "output_type": "stream",
     "text": [
      "100%|██████████| 748/748 [05:17<00:00,  2.35it/s]\n",
      "[2024-03-13 05:24:14,995]::269792397::DEBUG::Epoch = 70, 1 - train_loss = 0.9390483475663765\n"
     ]
    },
    {
     "name": "stdout",
     "output_type": "stream",
     "text": [
      "Epoch = 70, 1 - train_loss = 0.9390483475663765\n"
     ]
    },
    {
     "name": "stderr",
     "output_type": "stream",
     "text": [
      "100%|██████████| 250/250 [00:34<00:00,  7.26it/s]\n",
      "[2024-03-13 05:24:49,452]::269792397::DEBUG::Epoch = 70, 1 - valid_loss = 0.9081837837696075\n"
     ]
    },
    {
     "name": "stdout",
     "output_type": "stream",
     "text": [
      "Epoch = 70, 1 - val_loss = 0.9081837837696075\n",
      "\n",
      "\n"
     ]
    },
    {
     "name": "stderr",
     "output_type": "stream",
     "text": [
      "100%|██████████| 748/748 [05:17<00:00,  2.36it/s]\n",
      "[2024-03-13 05:30:07,167]::269792397::DEBUG::Epoch = 71, 1 - train_loss = 0.9398720209651134\n"
     ]
    },
    {
     "name": "stdout",
     "output_type": "stream",
     "text": [
      "Epoch = 71, 1 - train_loss = 0.9398720209651134\n"
     ]
    },
    {
     "name": "stderr",
     "output_type": "stream",
     "text": [
      "100%|██████████| 250/250 [00:33<00:00,  7.42it/s]\n",
      "[2024-03-13 05:30:40,881]::269792397::DEBUG::Epoch = 71, 1 - valid_loss = 0.9113765883892775\n"
     ]
    },
    {
     "name": "stdout",
     "output_type": "stream",
     "text": [
      "Epoch = 71, 1 - val_loss = 0.9113765883892775\n",
      "\n",
      "\n"
     ]
    },
    {
     "name": "stderr",
     "output_type": "stream",
     "text": [
      "100%|██████████| 748/748 [05:17<00:00,  2.36it/s]\n",
      "[2024-03-13 05:35:58,251]::269792397::DEBUG::Epoch = 72, 1 - train_loss = 0.9409767171109026\n"
     ]
    },
    {
     "name": "stdout",
     "output_type": "stream",
     "text": [
      "Epoch = 72, 1 - train_loss = 0.9409767171109026\n"
     ]
    },
    {
     "name": "stderr",
     "output_type": "stream",
     "text": [
      "100%|██████████| 250/250 [00:33<00:00,  7.36it/s]\n",
      "[2024-03-13 05:36:32,226]::269792397::DEBUG::Epoch = 72, 1 - valid_loss = 0.9099058803021908\n"
     ]
    },
    {
     "name": "stdout",
     "output_type": "stream",
     "text": [
      "Epoch = 72, 1 - val_loss = 0.9099058803021908\n",
      "\n",
      "\n"
     ]
    },
    {
     "name": "stderr",
     "output_type": "stream",
     "text": [
      "100%|██████████| 748/748 [05:17<00:00,  2.35it/s]\n",
      "[2024-03-13 05:41:50,083]::269792397::DEBUG::Epoch = 73, 1 - train_loss = 0.941119945124987\n"
     ]
    },
    {
     "name": "stdout",
     "output_type": "stream",
     "text": [
      "Epoch = 73, 1 - train_loss = 0.941119945124987\n"
     ]
    },
    {
     "name": "stderr",
     "output_type": "stream",
     "text": [
      "100%|██████████| 250/250 [00:33<00:00,  7.37it/s]\n",
      "[2024-03-13 05:42:24,033]::269792397::DEBUG::Epoch = 73, 1 - valid_loss = 0.9117796679586172\n"
     ]
    },
    {
     "name": "stdout",
     "output_type": "stream",
     "text": [
      "Epoch = 73, 1 - val_loss = 0.9117796679586172\n",
      "\n",
      "\n"
     ]
    },
    {
     "name": "stderr",
     "output_type": "stream",
     "text": [
      "100%|██████████| 748/748 [05:17<00:00,  2.36it/s]\n",
      "[2024-03-13 05:47:41,726]::269792397::DEBUG::Epoch = 74, 1 - train_loss = 0.9410168278145599\n"
     ]
    },
    {
     "name": "stdout",
     "output_type": "stream",
     "text": [
      "Epoch = 74, 1 - train_loss = 0.9410168278145599\n"
     ]
    },
    {
     "name": "stderr",
     "output_type": "stream",
     "text": [
      "100%|██████████| 250/250 [00:33<00:00,  7.37it/s]\n",
      "[2024-03-13 05:48:15,641]::269792397::DEBUG::Epoch = 74, 1 - valid_loss = 0.9092676388174296\n"
     ]
    },
    {
     "name": "stdout",
     "output_type": "stream",
     "text": [
      "Epoch = 74, 1 - val_loss = 0.9092676388174296\n",
      "\n",
      "\n"
     ]
    },
    {
     "name": "stderr",
     "output_type": "stream",
     "text": [
      "100%|██████████| 748/748 [05:17<00:00,  2.35it/s]\n",
      "[2024-03-13 05:53:33,470]::269792397::DEBUG::Epoch = 75, 1 - train_loss = 0.941313400266961\n"
     ]
    },
    {
     "name": "stdout",
     "output_type": "stream",
     "text": [
      "Epoch = 75, 1 - train_loss = 0.941313400266961\n"
     ]
    },
    {
     "name": "stderr",
     "output_type": "stream",
     "text": [
      "100%|██████████| 250/250 [00:33<00:00,  7.39it/s]\n",
      "[2024-03-13 05:54:07,304]::269792397::DEBUG::Epoch = 75, 1 - valid_loss = 0.9019886009246111\n"
     ]
    },
    {
     "name": "stdout",
     "output_type": "stream",
     "text": [
      "Epoch = 75, 1 - val_loss = 0.9019886009246111\n",
      "\n",
      "\n"
     ]
    },
    {
     "name": "stderr",
     "output_type": "stream",
     "text": [
      "100%|██████████| 748/748 [05:17<00:00,  2.36it/s]\n",
      "[2024-03-13 05:59:24,561]::269792397::DEBUG::Epoch = 76, 1 - train_loss = 0.9413857358821573\n"
     ]
    },
    {
     "name": "stdout",
     "output_type": "stream",
     "text": [
      "Epoch = 76, 1 - train_loss = 0.9413857358821573\n"
     ]
    },
    {
     "name": "stderr",
     "output_type": "stream",
     "text": [
      "100%|██████████| 250/250 [00:33<00:00,  7.40it/s]\n",
      "[2024-03-13 05:59:58,347]::269792397::DEBUG::Epoch = 76, 1 - valid_loss = 0.9033083588927984\n"
     ]
    },
    {
     "name": "stdout",
     "output_type": "stream",
     "text": [
      "Epoch = 76, 1 - val_loss = 0.9033083588927984\n",
      "\n",
      "\n"
     ]
    },
    {
     "name": "stderr",
     "output_type": "stream",
     "text": [
      "100%|██████████| 748/748 [05:17<00:00,  2.36it/s]\n",
      "[2024-03-13 06:05:15,719]::269792397::DEBUG::Epoch = 77, 1 - train_loss = 0.941091972637304\n"
     ]
    },
    {
     "name": "stdout",
     "output_type": "stream",
     "text": [
      "Epoch = 77, 1 - train_loss = 0.941091972637304\n"
     ]
    },
    {
     "name": "stderr",
     "output_type": "stream",
     "text": [
      "100%|██████████| 250/250 [00:33<00:00,  7.41it/s]\n",
      "[2024-03-13 06:05:49,457]::269792397::DEBUG::Epoch = 77, 1 - valid_loss = 0.9046870721280574\n"
     ]
    },
    {
     "name": "stdout",
     "output_type": "stream",
     "text": [
      "Epoch = 77, 1 - val_loss = 0.9046870721280574\n",
      "\n",
      "\n"
     ]
    },
    {
     "name": "stderr",
     "output_type": "stream",
     "text": [
      "100%|██████████| 748/748 [05:17<00:00,  2.36it/s]\n",
      "[2024-03-13 06:11:07,237]::269792397::DEBUG::Epoch = 78, 1 - train_loss = 0.9421526208360564\n"
     ]
    },
    {
     "name": "stdout",
     "output_type": "stream",
     "text": [
      "Epoch = 78, 1 - train_loss = 0.9421526208360564\n"
     ]
    },
    {
     "name": "stderr",
     "output_type": "stream",
     "text": [
      "100%|██████████| 250/250 [00:33<00:00,  7.36it/s]\n",
      "[2024-03-13 06:11:41,216]::269792397::DEBUG::Epoch = 78, 1 - valid_loss = 0.8898379626125097\n"
     ]
    },
    {
     "name": "stdout",
     "output_type": "stream",
     "text": [
      "Epoch = 78, 1 - val_loss = 0.8898379626125097\n",
      "\n",
      "\n"
     ]
    },
    {
     "name": "stderr",
     "output_type": "stream",
     "text": [
      "100%|██████████| 748/748 [05:17<00:00,  2.36it/s]\n",
      "[2024-03-13 06:16:58,958]::269792397::DEBUG::Epoch = 79, 1 - train_loss = 0.9426392062422745\n"
     ]
    },
    {
     "name": "stdout",
     "output_type": "stream",
     "text": [
      "Epoch = 79, 1 - train_loss = 0.9426392062422745\n"
     ]
    },
    {
     "name": "stderr",
     "output_type": "stream",
     "text": [
      "100%|██████████| 250/250 [00:33<00:00,  7.36it/s]\n",
      "[2024-03-13 06:17:32,925]::269792397::DEBUG::Epoch = 79, 1 - valid_loss = 0.8762451678812504\n"
     ]
    },
    {
     "name": "stdout",
     "output_type": "stream",
     "text": [
      "Epoch = 79, 1 - val_loss = 0.8762451678812504\n",
      "\n",
      "\n"
     ]
    },
    {
     "name": "stderr",
     "output_type": "stream",
     "text": [
      "100%|██████████| 748/748 [05:17<00:00,  2.35it/s]\n",
      "[2024-03-13 06:22:50,881]::269792397::DEBUG::Epoch = 80, 1 - train_loss = 0.9416563152410289\n"
     ]
    },
    {
     "name": "stdout",
     "output_type": "stream",
     "text": [
      "Epoch = 80, 1 - train_loss = 0.9416563152410289\n"
     ]
    },
    {
     "name": "stderr",
     "output_type": "stream",
     "text": [
      "100%|██████████| 250/250 [00:33<00:00,  7.40it/s]\n",
      "[2024-03-13 06:23:24,659]::269792397::DEBUG::Epoch = 80, 1 - valid_loss = 0.8899469654113055\n"
     ]
    },
    {
     "name": "stdout",
     "output_type": "stream",
     "text": [
      "Epoch = 80, 1 - val_loss = 0.8899469654113055\n",
      "\n",
      "\n"
     ]
    },
    {
     "name": "stderr",
     "output_type": "stream",
     "text": [
      "100%|██████████| 748/748 [05:17<00:00,  2.35it/s]\n",
      "[2024-03-13 06:28:42,673]::269792397::DEBUG::Epoch = 81, 1 - train_loss = 0.9423836668714244\n"
     ]
    },
    {
     "name": "stdout",
     "output_type": "stream",
     "text": [
      "Epoch = 81, 1 - train_loss = 0.9423836668714244\n"
     ]
    },
    {
     "name": "stderr",
     "output_type": "stream",
     "text": [
      "100%|██████████| 250/250 [00:33<00:00,  7.41it/s]\n",
      "[2024-03-13 06:29:16,421]::269792397::DEBUG::Epoch = 81, 1 - valid_loss = 0.8937344394475222\n"
     ]
    },
    {
     "name": "stdout",
     "output_type": "stream",
     "text": [
      "Epoch = 81, 1 - val_loss = 0.8937344394475222\n",
      "\n",
      "\n"
     ]
    },
    {
     "name": "stderr",
     "output_type": "stream",
     "text": [
      "100%|██████████| 748/748 [05:17<00:00,  2.36it/s]\n",
      "[2024-03-13 06:34:33,773]::269792397::DEBUG::Epoch = 82, 1 - train_loss = 0.9427299752413111\n"
     ]
    },
    {
     "name": "stdout",
     "output_type": "stream",
     "text": [
      "Epoch = 82, 1 - train_loss = 0.9427299752413111\n"
     ]
    },
    {
     "name": "stderr",
     "output_type": "stream",
     "text": [
      "100%|██████████| 250/250 [00:34<00:00,  7.33it/s]\n",
      "[2024-03-13 06:35:07,874]::269792397::DEBUG::Epoch = 82, 1 - valid_loss = 0.8961845872700215\n"
     ]
    },
    {
     "name": "stdout",
     "output_type": "stream",
     "text": [
      "Epoch = 82, 1 - val_loss = 0.8961845872700215\n",
      "\n",
      "\n"
     ]
    },
    {
     "name": "stderr",
     "output_type": "stream",
     "text": [
      "100%|██████████| 748/748 [05:17<00:00,  2.36it/s]\n",
      "[2024-03-13 06:40:25,156]::269792397::DEBUG::Epoch = 83, 1 - train_loss = 0.9429359145681647\n"
     ]
    },
    {
     "name": "stdout",
     "output_type": "stream",
     "text": [
      "Epoch = 83, 1 - train_loss = 0.9429359145681647\n"
     ]
    },
    {
     "name": "stderr",
     "output_type": "stream",
     "text": [
      "100%|██████████| 250/250 [00:33<00:00,  7.39it/s]\n",
      "[2024-03-13 06:40:58,989]::269792397::DEBUG::Epoch = 83, 1 - valid_loss = 0.8977936778366565\n"
     ]
    },
    {
     "name": "stdout",
     "output_type": "stream",
     "text": [
      "Epoch = 83, 1 - val_loss = 0.8977936778366565\n",
      "\n",
      "\n"
     ]
    },
    {
     "name": "stderr",
     "output_type": "stream",
     "text": [
      "100%|██████████| 748/748 [05:17<00:00,  2.35it/s]\n",
      "[2024-03-13 06:46:16,904]::269792397::DEBUG::Epoch = 84, 1 - train_loss = 0.9440441881281568\n"
     ]
    },
    {
     "name": "stdout",
     "output_type": "stream",
     "text": [
      "Epoch = 84, 1 - train_loss = 0.9440441881281568\n"
     ]
    },
    {
     "name": "stderr",
     "output_type": "stream",
     "text": [
      "100%|██████████| 250/250 [00:34<00:00,  7.33it/s]\n",
      "[2024-03-13 06:46:51,028]::269792397::DEBUG::Epoch = 84, 1 - valid_loss = 0.8987509912997484\n"
     ]
    },
    {
     "name": "stdout",
     "output_type": "stream",
     "text": [
      "Epoch = 84, 1 - val_loss = 0.8987509912997484\n",
      "\n",
      "\n"
     ]
    },
    {
     "name": "stderr",
     "output_type": "stream",
     "text": [
      "100%|██████████| 748/748 [05:17<00:00,  2.35it/s]\n",
      "[2024-03-13 06:52:08,902]::269792397::DEBUG::Epoch = 85, 1 - train_loss = 0.9433978410577153\n"
     ]
    },
    {
     "name": "stdout",
     "output_type": "stream",
     "text": [
      "Epoch = 85, 1 - train_loss = 0.9433978410577153\n"
     ]
    },
    {
     "name": "stderr",
     "output_type": "stream",
     "text": [
      "100%|██████████| 250/250 [00:34<00:00,  7.33it/s]\n",
      "[2024-03-13 06:52:43,034]::269792397::DEBUG::Epoch = 85, 1 - valid_loss = 0.9070524077564478\n"
     ]
    },
    {
     "name": "stdout",
     "output_type": "stream",
     "text": [
      "Epoch = 85, 1 - val_loss = 0.9070524077564478\n",
      "\n",
      "\n"
     ]
    },
    {
     "name": "stderr",
     "output_type": "stream",
     "text": [
      "100%|██████████| 748/748 [05:17<00:00,  2.36it/s]\n",
      "[2024-03-13 06:58:00,697]::269792397::DEBUG::Epoch = 86, 1 - train_loss = 0.9442394767255388\n"
     ]
    },
    {
     "name": "stdout",
     "output_type": "stream",
     "text": [
      "Epoch = 86, 1 - train_loss = 0.9442394767255388\n"
     ]
    },
    {
     "name": "stderr",
     "output_type": "stream",
     "text": [
      "100%|██████████| 250/250 [00:34<00:00,  7.27it/s]\n",
      "[2024-03-13 06:58:35,078]::269792397::DEBUG::Epoch = 86, 1 - valid_loss = 0.9081959527879954\n"
     ]
    },
    {
     "name": "stdout",
     "output_type": "stream",
     "text": [
      "Epoch = 86, 1 - val_loss = 0.9081959527879954\n",
      "\n",
      "\n"
     ]
    },
    {
     "name": "stderr",
     "output_type": "stream",
     "text": [
      "100%|██████████| 748/748 [05:17<00:00,  2.36it/s]\n",
      "[2024-03-13 07:03:52,738]::269792397::DEBUG::Epoch = 87, 1 - train_loss = 0.9449434888046135\n"
     ]
    },
    {
     "name": "stdout",
     "output_type": "stream",
     "text": [
      "Epoch = 87, 1 - train_loss = 0.9449434888046135\n"
     ]
    },
    {
     "name": "stderr",
     "output_type": "stream",
     "text": [
      "100%|██████████| 250/250 [00:34<00:00,  7.33it/s]\n",
      "[2024-03-13 07:04:26,869]::269792397::DEBUG::Epoch = 87, 1 - valid_loss = 0.9084661736935378\n"
     ]
    },
    {
     "name": "stdout",
     "output_type": "stream",
     "text": [
      "Epoch = 87, 1 - val_loss = 0.9084661736935378\n",
      "\n",
      "\n"
     ]
    },
    {
     "name": "stderr",
     "output_type": "stream",
     "text": [
      "100%|██████████| 748/748 [05:17<00:00,  2.36it/s]\n",
      "[2024-03-13 07:09:44,159]::269792397::DEBUG::Epoch = 88, 1 - train_loss = 0.9455511709675193\n"
     ]
    },
    {
     "name": "stdout",
     "output_type": "stream",
     "text": [
      "Epoch = 88, 1 - train_loss = 0.9455511709675193\n"
     ]
    },
    {
     "name": "stderr",
     "output_type": "stream",
     "text": [
      "100%|██████████| 250/250 [00:34<00:00,  7.30it/s]\n",
      "[2024-03-13 07:10:18,407]::269792397::DEBUG::Epoch = 88, 1 - valid_loss = 0.9089867129921914\n"
     ]
    },
    {
     "name": "stdout",
     "output_type": "stream",
     "text": [
      "Epoch = 88, 1 - val_loss = 0.9089867129921914\n",
      "\n",
      "\n"
     ]
    },
    {
     "name": "stderr",
     "output_type": "stream",
     "text": [
      "100%|██████████| 748/748 [05:17<00:00,  2.36it/s]\n",
      "[2024-03-13 07:15:35,968]::269792397::DEBUG::Epoch = 89, 1 - train_loss = 0.94551976061959\n"
     ]
    },
    {
     "name": "stdout",
     "output_type": "stream",
     "text": [
      "Epoch = 89, 1 - train_loss = 0.94551976061959\n"
     ]
    },
    {
     "name": "stderr",
     "output_type": "stream",
     "text": [
      "100%|██████████| 250/250 [00:34<00:00,  7.35it/s]\n",
      "[2024-03-13 07:16:09,999]::269792397::DEBUG::Epoch = 89, 1 - valid_loss = 0.9098353675603866\n"
     ]
    },
    {
     "name": "stdout",
     "output_type": "stream",
     "text": [
      "Epoch = 89, 1 - val_loss = 0.9098353675603866\n",
      "\n",
      "\n"
     ]
    },
    {
     "name": "stderr",
     "output_type": "stream",
     "text": [
      "100%|██████████| 748/748 [05:17<00:00,  2.36it/s]\n",
      "[2024-03-13 07:21:27,505]::269792397::DEBUG::Epoch = 90, 1 - train_loss = 0.94621593473519\n"
     ]
    },
    {
     "name": "stdout",
     "output_type": "stream",
     "text": [
      "Epoch = 90, 1 - train_loss = 0.94621593473519\n"
     ]
    },
    {
     "name": "stderr",
     "output_type": "stream",
     "text": [
      "100%|██████████| 250/250 [00:33<00:00,  7.36it/s]\n",
      "[2024-03-13 07:22:01,477]::269792397::DEBUG::Epoch = 90, 1 - valid_loss = 0.9088476492762566\n"
     ]
    },
    {
     "name": "stdout",
     "output_type": "stream",
     "text": [
      "Epoch = 90, 1 - val_loss = 0.9088476492762566\n",
      "\n",
      "\n"
     ]
    },
    {
     "name": "stderr",
     "output_type": "stream",
     "text": [
      "100%|██████████| 748/748 [05:17<00:00,  2.36it/s]\n",
      "[2024-03-13 07:27:19,142]::269792397::DEBUG::Epoch = 91, 1 - train_loss = 0.946077425834688\n"
     ]
    },
    {
     "name": "stdout",
     "output_type": "stream",
     "text": [
      "Epoch = 91, 1 - train_loss = 0.946077425834688\n"
     ]
    },
    {
     "name": "stderr",
     "output_type": "stream",
     "text": [
      "100%|██████████| 250/250 [00:34<00:00,  7.33it/s]\n",
      "[2024-03-13 07:27:53,246]::269792397::DEBUG::Epoch = 91, 1 - valid_loss = 0.9130475629866124\n"
     ]
    },
    {
     "name": "stdout",
     "output_type": "stream",
     "text": [
      "Epoch = 91, 1 - val_loss = 0.9130475629866124\n",
      "\n",
      "\n"
     ]
    },
    {
     "name": "stderr",
     "output_type": "stream",
     "text": [
      "100%|██████████| 748/748 [05:17<00:00,  2.35it/s]\n",
      "[2024-03-13 07:33:11,249]::269792397::DEBUG::Epoch = 92, 1 - train_loss = 0.9467627798421259\n"
     ]
    },
    {
     "name": "stdout",
     "output_type": "stream",
     "text": [
      "Epoch = 92, 1 - train_loss = 0.9467627798421259\n"
     ]
    },
    {
     "name": "stderr",
     "output_type": "stream",
     "text": [
      "100%|██████████| 250/250 [00:33<00:00,  7.39it/s]\n",
      "[2024-03-13 07:33:45,104]::269792397::DEBUG::Epoch = 92, 1 - valid_loss = 0.9124930029660463\n"
     ]
    },
    {
     "name": "stdout",
     "output_type": "stream",
     "text": [
      "Epoch = 92, 1 - val_loss = 0.9124930029660463\n",
      "\n",
      "\n"
     ]
    },
    {
     "name": "stderr",
     "output_type": "stream",
     "text": [
      "100%|██████████| 748/748 [05:17<00:00,  2.36it/s]\n",
      "[2024-03-13 07:39:02,870]::269792397::DEBUG::Epoch = 93, 1 - train_loss = 0.9474869790402326\n"
     ]
    },
    {
     "name": "stdout",
     "output_type": "stream",
     "text": [
      "Epoch = 93, 1 - train_loss = 0.9474869790402326\n"
     ]
    },
    {
     "name": "stderr",
     "output_type": "stream",
     "text": [
      "100%|██████████| 250/250 [00:33<00:00,  7.37it/s]\n",
      "[2024-03-13 07:39:36,777]::269792397::DEBUG::Epoch = 93, 1 - valid_loss = 0.9120481051951647\n"
     ]
    },
    {
     "name": "stdout",
     "output_type": "stream",
     "text": [
      "Epoch = 93, 1 - val_loss = 0.9120481051951647\n",
      "\n",
      "\n"
     ]
    },
    {
     "name": "stderr",
     "output_type": "stream",
     "text": [
      "100%|██████████| 748/748 [05:17<00:00,  2.36it/s]\n",
      "[2024-03-13 07:44:54,153]::269792397::DEBUG::Epoch = 94, 1 - train_loss = 0.947172960580232\n"
     ]
    },
    {
     "name": "stdout",
     "output_type": "stream",
     "text": [
      "Epoch = 94, 1 - train_loss = 0.947172960580232\n"
     ]
    },
    {
     "name": "stderr",
     "output_type": "stream",
     "text": [
      "100%|██████████| 250/250 [00:34<00:00,  7.35it/s]\n",
      "[2024-03-13 07:45:28,175]::269792397::DEBUG::Epoch = 94, 1 - valid_loss = 0.9120532762408257\n"
     ]
    },
    {
     "name": "stdout",
     "output_type": "stream",
     "text": [
      "Epoch = 94, 1 - val_loss = 0.9120532762408257\n",
      "\n",
      "\n"
     ]
    },
    {
     "name": "stderr",
     "output_type": "stream",
     "text": [
      "100%|██████████| 748/748 [05:17<00:00,  2.35it/s]\n",
      "[2024-03-13 07:50:46,071]::269792397::DEBUG::Epoch = 95, 1 - train_loss = 0.947916935093422\n"
     ]
    },
    {
     "name": "stdout",
     "output_type": "stream",
     "text": [
      "Epoch = 95, 1 - train_loss = 0.947916935093422\n"
     ]
    },
    {
     "name": "stderr",
     "output_type": "stream",
     "text": [
      "100%|██████████| 250/250 [00:34<00:00,  7.35it/s]\n",
      "[2024-03-13 07:51:20,116]::269792397::DEBUG::Epoch = 95, 1 - valid_loss = 0.9116550099998713\n"
     ]
    },
    {
     "name": "stdout",
     "output_type": "stream",
     "text": [
      "Epoch = 95, 1 - val_loss = 0.9116550099998713\n",
      "\n",
      "\n"
     ]
    },
    {
     "name": "stderr",
     "output_type": "stream",
     "text": [
      "100%|██████████| 748/748 [05:17<00:00,  2.35it/s]\n",
      "[2024-03-13 07:56:37,963]::269792397::DEBUG::Epoch = 96, 1 - train_loss = 0.9485539313365909\n"
     ]
    },
    {
     "name": "stdout",
     "output_type": "stream",
     "text": [
      "Epoch = 96, 1 - train_loss = 0.9485539313365909\n"
     ]
    },
    {
     "name": "stderr",
     "output_type": "stream",
     "text": [
      "100%|██████████| 250/250 [00:33<00:00,  7.36it/s]\n",
      "[2024-03-13 07:57:11,947]::269792397::DEBUG::Epoch = 96, 1 - valid_loss = 0.9125586982518434\n"
     ]
    },
    {
     "name": "stdout",
     "output_type": "stream",
     "text": [
      "Epoch = 96, 1 - val_loss = 0.9125586982518434\n",
      "\n",
      "\n"
     ]
    },
    {
     "name": "stderr",
     "output_type": "stream",
     "text": [
      "100%|██████████| 748/748 [05:17<00:00,  2.35it/s]\n",
      "[2024-03-13 08:02:30,035]::269792397::DEBUG::Epoch = 97, 1 - train_loss = 0.9493853881143353\n"
     ]
    },
    {
     "name": "stdout",
     "output_type": "stream",
     "text": [
      "Epoch = 97, 1 - train_loss = 0.9493853881143353\n"
     ]
    },
    {
     "name": "stderr",
     "output_type": "stream",
     "text": [
      "100%|██████████| 250/250 [00:33<00:00,  7.37it/s]\n",
      "[2024-03-13 08:03:03,965]::269792397::DEBUG::Epoch = 97, 1 - valid_loss = 0.9124027586281299\n"
     ]
    },
    {
     "name": "stdout",
     "output_type": "stream",
     "text": [
      "Epoch = 97, 1 - val_loss = 0.9124027586281299\n",
      "\n",
      "\n"
     ]
    },
    {
     "name": "stderr",
     "output_type": "stream",
     "text": [
      "100%|██████████| 748/748 [05:17<00:00,  2.36it/s]\n",
      "[2024-03-13 08:08:21,771]::269792397::DEBUG::Epoch = 98, 1 - train_loss = 0.9490211799511696\n"
     ]
    },
    {
     "name": "stdout",
     "output_type": "stream",
     "text": [
      "Epoch = 98, 1 - train_loss = 0.9490211799511696\n"
     ]
    },
    {
     "name": "stderr",
     "output_type": "stream",
     "text": [
      "100%|██████████| 250/250 [00:34<00:00,  7.35it/s]\n",
      "[2024-03-13 08:08:55,798]::269792397::DEBUG::Epoch = 98, 1 - valid_loss = 0.9121182184219361\n"
     ]
    },
    {
     "name": "stdout",
     "output_type": "stream",
     "text": [
      "Epoch = 98, 1 - val_loss = 0.9121182184219361\n",
      "\n",
      "\n"
     ]
    },
    {
     "name": "stderr",
     "output_type": "stream",
     "text": [
      "100%|██████████| 748/748 [05:17<00:00,  2.36it/s]\n",
      "[2024-03-13 08:14:13,427]::269792397::DEBUG::Epoch = 99, 1 - train_loss = 0.9492112447278584\n"
     ]
    },
    {
     "name": "stdout",
     "output_type": "stream",
     "text": [
      "Epoch = 99, 1 - train_loss = 0.9492112447278584\n"
     ]
    },
    {
     "name": "stderr",
     "output_type": "stream",
     "text": [
      "100%|██████████| 250/250 [00:34<00:00,  7.34it/s]\n",
      "[2024-03-13 08:14:47,480]::269792397::DEBUG::Epoch = 99, 1 - valid_loss = 0.9127560811787844\n"
     ]
    },
    {
     "name": "stdout",
     "output_type": "stream",
     "text": [
      "Epoch = 99, 1 - val_loss = 0.9127560811787844\n",
      "\n",
      "\n"
     ]
    },
    {
     "name": "stderr",
     "output_type": "stream",
     "text": [
      "100%|██████████| 748/748 [05:17<00:00,  2.36it/s]\n",
      "[2024-03-13 08:20:05,045]::269792397::DEBUG::Epoch = 100, 1 - train_loss = 0.9500653136441892\n"
     ]
    },
    {
     "name": "stdout",
     "output_type": "stream",
     "text": [
      "Epoch = 100, 1 - train_loss = 0.9500653136441892\n"
     ]
    },
    {
     "name": "stderr",
     "output_type": "stream",
     "text": [
      "100%|██████████| 250/250 [00:33<00:00,  7.42it/s]\n",
      "[2024-03-13 08:20:38,764]::269792397::DEBUG::Epoch = 100, 1 - valid_loss = 0.9122677589803934\n"
     ]
    },
    {
     "name": "stdout",
     "output_type": "stream",
     "text": [
      "Epoch = 100, 1 - val_loss = 0.9122677589803934\n",
      "\n",
      "\n"
     ]
    },
    {
     "name": "stderr",
     "output_type": "stream",
     "text": [
      "100%|██████████| 748/748 [05:17<00:00,  2.35it/s]\n",
      "[2024-03-13 08:25:56,575]::269792397::DEBUG::Epoch = 101, 1 - train_loss = 0.9499599547225006\n"
     ]
    },
    {
     "name": "stdout",
     "output_type": "stream",
     "text": [
      "Epoch = 101, 1 - train_loss = 0.9499599547225006\n"
     ]
    },
    {
     "name": "stderr",
     "output_type": "stream",
     "text": [
      "100%|██████████| 250/250 [00:34<00:00,  7.34it/s]\n",
      "[2024-03-13 08:26:30,659]::269792397::DEBUG::Epoch = 101, 1 - valid_loss = 0.9132074522823095\n"
     ]
    },
    {
     "name": "stdout",
     "output_type": "stream",
     "text": [
      "Epoch = 101, 1 - val_loss = 0.9132074522823095\n",
      "\n",
      "\n"
     ]
    },
    {
     "name": "stderr",
     "output_type": "stream",
     "text": [
      "100%|██████████| 748/748 [05:17<00:00,  2.35it/s]\n",
      "[2024-03-13 08:31:48,459]::269792397::DEBUG::Epoch = 102, 1 - train_loss = 0.9506243362893315\n"
     ]
    },
    {
     "name": "stdout",
     "output_type": "stream",
     "text": [
      "Epoch = 102, 1 - train_loss = 0.9506243362893315\n"
     ]
    },
    {
     "name": "stderr",
     "output_type": "stream",
     "text": [
      "100%|██████████| 250/250 [00:34<00:00,  7.34it/s]\n",
      "[2024-03-13 08:32:22,521]::269792397::DEBUG::Epoch = 102, 1 - valid_loss = 0.9121085126698018\n"
     ]
    },
    {
     "name": "stdout",
     "output_type": "stream",
     "text": [
      "Epoch = 102, 1 - val_loss = 0.9121085126698018\n",
      "\n",
      "\n"
     ]
    },
    {
     "name": "stderr",
     "output_type": "stream",
     "text": [
      "100%|██████████| 748/748 [05:17<00:00,  2.35it/s]\n",
      "[2024-03-13 08:37:40,317]::269792397::DEBUG::Epoch = 103, 1 - train_loss = 0.9508952614452869\n"
     ]
    },
    {
     "name": "stdout",
     "output_type": "stream",
     "text": [
      "Epoch = 103, 1 - train_loss = 0.9508952614452869\n"
     ]
    },
    {
     "name": "stderr",
     "output_type": "stream",
     "text": [
      "100%|██████████| 250/250 [00:33<00:00,  7.36it/s]\n",
      "[2024-03-13 08:38:14,290]::269792397::DEBUG::Epoch = 103, 1 - valid_loss = 0.9117963953763246\n"
     ]
    },
    {
     "name": "stdout",
     "output_type": "stream",
     "text": [
      "Epoch = 103, 1 - val_loss = 0.9117963953763246\n",
      "\n",
      "\n"
     ]
    },
    {
     "name": "stderr",
     "output_type": "stream",
     "text": [
      "100%|██████████| 748/748 [05:17<00:00,  2.36it/s]\n",
      "[2024-03-13 08:43:31,709]::269792397::DEBUG::Epoch = 104, 1 - train_loss = 0.9512921066501522\n"
     ]
    },
    {
     "name": "stdout",
     "output_type": "stream",
     "text": [
      "Epoch = 104, 1 - train_loss = 0.9512921066501522\n"
     ]
    },
    {
     "name": "stderr",
     "output_type": "stream",
     "text": [
      "100%|██████████| 250/250 [00:34<00:00,  7.28it/s]\n",
      "[2024-03-13 08:44:06,068]::269792397::DEBUG::Epoch = 104, 1 - valid_loss = 0.9124469452500343\n"
     ]
    },
    {
     "name": "stdout",
     "output_type": "stream",
     "text": [
      "Epoch = 104, 1 - val_loss = 0.9124469452500343\n",
      "\n",
      "\n"
     ]
    },
    {
     "name": "stderr",
     "output_type": "stream",
     "text": [
      "100%|██████████| 748/748 [05:17<00:00,  2.36it/s]\n",
      "[2024-03-13 08:49:23,567]::269792397::DEBUG::Epoch = 105, 1 - train_loss = 0.9513109528887917\n"
     ]
    },
    {
     "name": "stdout",
     "output_type": "stream",
     "text": [
      "Epoch = 105, 1 - train_loss = 0.9513109528887917\n"
     ]
    },
    {
     "name": "stderr",
     "output_type": "stream",
     "text": [
      "100%|██████████| 250/250 [00:34<00:00,  7.31it/s]\n",
      "[2024-03-13 08:49:57,765]::269792397::DEBUG::Epoch = 105, 1 - valid_loss = 0.9119541926681995\n"
     ]
    },
    {
     "name": "stdout",
     "output_type": "stream",
     "text": [
      "Epoch = 105, 1 - val_loss = 0.9119541926681995\n",
      "\n",
      "\n"
     ]
    },
    {
     "name": "stderr",
     "output_type": "stream",
     "text": [
      "100%|██████████| 748/748 [05:17<00:00,  2.35it/s]\n",
      "[2024-03-13 08:55:15,625]::269792397::DEBUG::Epoch = 106, 1 - train_loss = 0.9520786115974387\n"
     ]
    },
    {
     "name": "stdout",
     "output_type": "stream",
     "text": [
      "Epoch = 106, 1 - train_loss = 0.9520786115974387\n"
     ]
    },
    {
     "name": "stderr",
     "output_type": "stream",
     "text": [
      "100%|██████████| 250/250 [00:33<00:00,  7.38it/s]\n",
      "[2024-03-13 08:55:49,491]::269792397::DEBUG::Epoch = 106, 1 - valid_loss = 0.9122533660829067\n"
     ]
    },
    {
     "name": "stdout",
     "output_type": "stream",
     "text": [
      "Epoch = 106, 1 - val_loss = 0.9122533660829067\n",
      "\n",
      "\n"
     ]
    },
    {
     "name": "stderr",
     "output_type": "stream",
     "text": [
      "100%|██████████| 748/748 [05:17<00:00,  2.36it/s]\n",
      "[2024-03-13 09:01:06,912]::269792397::DEBUG::Epoch = 107, 1 - train_loss = 0.9523753213875474\n"
     ]
    },
    {
     "name": "stdout",
     "output_type": "stream",
     "text": [
      "Epoch = 107, 1 - train_loss = 0.9523753213875474\n"
     ]
    },
    {
     "name": "stderr",
     "output_type": "stream",
     "text": [
      "100%|██████████| 250/250 [00:33<00:00,  7.38it/s]\n",
      "[2024-03-13 09:01:40,793]::269792397::DEBUG::Epoch = 107, 1 - valid_loss = 0.9116268017441034\n"
     ]
    },
    {
     "name": "stdout",
     "output_type": "stream",
     "text": [
      "Epoch = 107, 1 - val_loss = 0.9116268017441034\n",
      "\n",
      "\n"
     ]
    },
    {
     "name": "stderr",
     "output_type": "stream",
     "text": [
      "100%|██████████| 748/748 [05:17<00:00,  2.35it/s]\n",
      "[2024-03-13 09:06:58,601]::269792397::DEBUG::Epoch = 108, 1 - train_loss = 0.9525548429552088\n"
     ]
    },
    {
     "name": "stdout",
     "output_type": "stream",
     "text": [
      "Epoch = 108, 1 - train_loss = 0.9525548429552088\n"
     ]
    },
    {
     "name": "stderr",
     "output_type": "stream",
     "text": [
      "100%|██████████| 250/250 [00:33<00:00,  7.37it/s]\n",
      "[2024-03-13 09:07:32,548]::269792397::DEBUG::Epoch = 108, 1 - valid_loss = 0.9111182701438665\n"
     ]
    },
    {
     "name": "stdout",
     "output_type": "stream",
     "text": [
      "Epoch = 108, 1 - val_loss = 0.9111182701438665\n",
      "\n",
      "\n"
     ]
    },
    {
     "name": "stderr",
     "output_type": "stream",
     "text": [
      "100%|██████████| 748/748 [05:17<00:00,  2.36it/s]\n",
      "[2024-03-13 09:12:50,240]::269792397::DEBUG::Epoch = 109, 1 - train_loss = 0.9527979227415421\n"
     ]
    },
    {
     "name": "stdout",
     "output_type": "stream",
     "text": [
      "Epoch = 109, 1 - train_loss = 0.9527979227415421\n"
     ]
    },
    {
     "name": "stderr",
     "output_type": "stream",
     "text": [
      "100%|██████████| 250/250 [00:34<00:00,  7.33it/s]\n",
      "[2024-03-13 09:13:24,365]::269792397::DEBUG::Epoch = 109, 1 - valid_loss = 0.9121896435916423\n"
     ]
    },
    {
     "name": "stdout",
     "output_type": "stream",
     "text": [
      "Epoch = 109, 1 - val_loss = 0.9121896435916423\n",
      "\n",
      "\n"
     ]
    },
    {
     "name": "stderr",
     "output_type": "stream",
     "text": [
      "100%|██████████| 748/748 [05:17<00:00,  2.36it/s]\n",
      "[2024-03-13 09:18:42,028]::269792397::DEBUG::Epoch = 110, 1 - train_loss = 0.9532613148539262\n"
     ]
    },
    {
     "name": "stdout",
     "output_type": "stream",
     "text": [
      "Epoch = 110, 1 - train_loss = 0.9532613148539262\n"
     ]
    },
    {
     "name": "stderr",
     "output_type": "stream",
     "text": [
      "100%|██████████| 250/250 [00:33<00:00,  7.36it/s]\n",
      "[2024-03-13 09:19:16,007]::269792397::DEBUG::Epoch = 110, 1 - valid_loss = 0.9115316348671914\n"
     ]
    },
    {
     "name": "stdout",
     "output_type": "stream",
     "text": [
      "Epoch = 110, 1 - val_loss = 0.9115316348671914\n",
      "\n",
      "\n"
     ]
    },
    {
     "name": "stderr",
     "output_type": "stream",
     "text": [
      "100%|██████████| 748/748 [05:17<00:00,  2.35it/s]\n",
      "[2024-03-13 09:24:33,875]::269792397::DEBUG::Epoch = 111, 1 - train_loss = 0.9539149669123524\n"
     ]
    },
    {
     "name": "stdout",
     "output_type": "stream",
     "text": [
      "Epoch = 111, 1 - train_loss = 0.9539149669123524\n"
     ]
    },
    {
     "name": "stderr",
     "output_type": "stream",
     "text": [
      "100%|██████████| 250/250 [00:34<00:00,  7.33it/s]\n",
      "[2024-03-13 09:25:07,991]::269792397::DEBUG::Epoch = 111, 1 - valid_loss = 0.9105685531049967\n"
     ]
    },
    {
     "name": "stdout",
     "output_type": "stream",
     "text": [
      "Epoch = 111, 1 - val_loss = 0.9105685531049967\n",
      "\n",
      "\n"
     ]
    },
    {
     "name": "stderr",
     "output_type": "stream",
     "text": [
      "100%|██████████| 748/748 [05:17<00:00,  2.36it/s]\n",
      "[2024-03-13 09:30:25,536]::269792397::DEBUG::Epoch = 112, 1 - train_loss = 0.9540215844691875\n"
     ]
    },
    {
     "name": "stdout",
     "output_type": "stream",
     "text": [
      "Epoch = 112, 1 - train_loss = 0.9540215844691875\n"
     ]
    },
    {
     "name": "stderr",
     "output_type": "stream",
     "text": [
      "100%|██████████| 250/250 [00:34<00:00,  7.32it/s]\n",
      "[2024-03-13 09:30:59,711]::269792397::DEBUG::Epoch = 112, 1 - valid_loss = 0.9124060961008071\n"
     ]
    },
    {
     "name": "stdout",
     "output_type": "stream",
     "text": [
      "Epoch = 112, 1 - val_loss = 0.9124060961008071\n",
      "\n",
      "\n"
     ]
    },
    {
     "name": "stderr",
     "output_type": "stream",
     "text": [
      "100%|██████████| 748/748 [05:17<00:00,  2.35it/s]\n",
      "[2024-03-13 09:36:17,636]::269792397::DEBUG::Epoch = 113, 1 - train_loss = 0.9539773869104086\n"
     ]
    },
    {
     "name": "stdout",
     "output_type": "stream",
     "text": [
      "Epoch = 113, 1 - train_loss = 0.9539773869104086\n"
     ]
    },
    {
     "name": "stderr",
     "output_type": "stream",
     "text": [
      "100%|██████████| 250/250 [00:34<00:00,  7.34it/s]\n",
      "[2024-03-13 09:36:51,705]::269792397::DEBUG::Epoch = 113, 1 - valid_loss = 0.9112291569858789\n"
     ]
    },
    {
     "name": "stdout",
     "output_type": "stream",
     "text": [
      "Epoch = 113, 1 - val_loss = 0.9112291569858789\n",
      "\n",
      "\n"
     ]
    },
    {
     "name": "stderr",
     "output_type": "stream",
     "text": [
      "100%|██████████| 748/748 [05:17<00:00,  2.35it/s]\n",
      "[2024-03-13 09:42:09,735]::269792397::DEBUG::Epoch = 114, 1 - train_loss = 0.9539557870422655\n"
     ]
    },
    {
     "name": "stdout",
     "output_type": "stream",
     "text": [
      "Epoch = 114, 1 - train_loss = 0.9539557870422655\n"
     ]
    },
    {
     "name": "stderr",
     "output_type": "stream",
     "text": [
      "100%|██████████| 250/250 [00:34<00:00,  7.35it/s]\n",
      "[2024-03-13 09:42:43,765]::269792397::DEBUG::Epoch = 114, 1 - valid_loss = 0.9102316895574332\n"
     ]
    },
    {
     "name": "stdout",
     "output_type": "stream",
     "text": [
      "Epoch = 114, 1 - val_loss = 0.9102316895574332\n",
      "\n",
      "\n"
     ]
    },
    {
     "name": "stderr",
     "output_type": "stream",
     "text": [
      "100%|██████████| 748/748 [05:17<00:00,  2.36it/s]\n",
      "[2024-03-13 09:48:01,481]::269792397::DEBUG::Epoch = 115, 1 - train_loss = 0.9545063677936155\n"
     ]
    },
    {
     "name": "stdout",
     "output_type": "stream",
     "text": [
      "Epoch = 115, 1 - train_loss = 0.9545063677936155\n"
     ]
    },
    {
     "name": "stderr",
     "output_type": "stream",
     "text": [
      "100%|██████████| 250/250 [00:34<00:00,  7.35it/s]\n",
      "[2024-03-13 09:48:35,495]::269792397::DEBUG::Epoch = 115, 1 - valid_loss = 0.9069307936429978\n"
     ]
    },
    {
     "name": "stdout",
     "output_type": "stream",
     "text": [
      "Epoch = 115, 1 - val_loss = 0.9069307936429978\n",
      "\n",
      "\n"
     ]
    },
    {
     "name": "stderr",
     "output_type": "stream",
     "text": [
      "100%|██████████| 748/748 [05:17<00:00,  2.36it/s]\n",
      "[2024-03-13 09:53:53,215]::269792397::DEBUG::Epoch = 116, 1 - train_loss = 0.9546796943130779\n"
     ]
    },
    {
     "name": "stdout",
     "output_type": "stream",
     "text": [
      "Epoch = 116, 1 - train_loss = 0.9546796943130779\n"
     ]
    },
    {
     "name": "stderr",
     "output_type": "stream",
     "text": [
      "100%|██████████| 250/250 [00:33<00:00,  7.37it/s]\n",
      "[2024-03-13 09:54:27,140]::269792397::DEBUG::Epoch = 116, 1 - valid_loss = 0.9047621306777001\n"
     ]
    },
    {
     "name": "stdout",
     "output_type": "stream",
     "text": [
      "Epoch = 116, 1 - val_loss = 0.9047621306777001\n",
      "\n",
      "\n"
     ]
    },
    {
     "name": "stderr",
     "output_type": "stream",
     "text": [
      "100%|██████████| 748/748 [05:17<00:00,  2.36it/s]\n",
      "[2024-03-13 09:59:44,888]::269792397::DEBUG::Epoch = 117, 1 - train_loss = 0.9551424511016052\n"
     ]
    },
    {
     "name": "stdout",
     "output_type": "stream",
     "text": [
      "Epoch = 117, 1 - train_loss = 0.9551424511016052\n"
     ]
    },
    {
     "name": "stderr",
     "output_type": "stream",
     "text": [
      "100%|██████████| 250/250 [00:34<00:00,  7.32it/s]\n",
      "[2024-03-13 10:00:19,064]::269792397::DEBUG::Epoch = 117, 1 - valid_loss = 0.9108316328674555\n"
     ]
    },
    {
     "name": "stdout",
     "output_type": "stream",
     "text": [
      "Epoch = 117, 1 - val_loss = 0.9108316328674555\n",
      "\n",
      "\n"
     ]
    },
    {
     "name": "stderr",
     "output_type": "stream",
     "text": [
      "100%|██████████| 748/748 [05:17<00:00,  2.36it/s]\n",
      "[2024-03-13 10:05:36,651]::269792397::DEBUG::Epoch = 118, 1 - train_loss = 0.9558947083470536\n"
     ]
    },
    {
     "name": "stdout",
     "output_type": "stream",
     "text": [
      "Epoch = 118, 1 - train_loss = 0.9558947083470536\n"
     ]
    },
    {
     "name": "stderr",
     "output_type": "stream",
     "text": [
      "100%|██████████| 250/250 [00:34<00:00,  7.34it/s]\n",
      "[2024-03-13 10:06:10,729]::269792397::DEBUG::Epoch = 118, 1 - valid_loss = 0.9078093503415585\n"
     ]
    },
    {
     "name": "stdout",
     "output_type": "stream",
     "text": [
      "Epoch = 118, 1 - val_loss = 0.9078093503415585\n",
      "\n",
      "\n"
     ]
    },
    {
     "name": "stderr",
     "output_type": "stream",
     "text": [
      "100%|██████████| 748/748 [05:17<00:00,  2.36it/s]\n",
      "[2024-03-13 10:11:28,361]::269792397::DEBUG::Epoch = 119, 1 - train_loss = 0.955950799051991\n"
     ]
    },
    {
     "name": "stdout",
     "output_type": "stream",
     "text": [
      "Epoch = 119, 1 - train_loss = 0.955950799051991\n"
     ]
    },
    {
     "name": "stderr",
     "output_type": "stream",
     "text": [
      "100%|██████████| 250/250 [00:34<00:00,  7.28it/s]\n",
      "[2024-03-13 10:12:02,707]::269792397::DEBUG::Epoch = 119, 1 - valid_loss = 0.9106872811019421\n"
     ]
    },
    {
     "name": "stdout",
     "output_type": "stream",
     "text": [
      "Epoch = 119, 1 - val_loss = 0.9106872811019421\n",
      "\n",
      "\n"
     ]
    },
    {
     "name": "stderr",
     "output_type": "stream",
     "text": [
      "100%|██████████| 748/748 [05:17<00:00,  2.36it/s]\n",
      "[2024-03-13 10:17:20,480]::269792397::DEBUG::Epoch = 120, 1 - train_loss = 0.9558490909521473\n"
     ]
    },
    {
     "name": "stdout",
     "output_type": "stream",
     "text": [
      "Epoch = 120, 1 - train_loss = 0.9558490909521473\n"
     ]
    },
    {
     "name": "stderr",
     "output_type": "stream",
     "text": [
      "100%|██████████| 250/250 [00:34<00:00,  7.31it/s]\n",
      "[2024-03-13 10:17:54,672]::269792397::DEBUG::Epoch = 120, 1 - valid_loss = 0.9096640632152557\n"
     ]
    },
    {
     "name": "stdout",
     "output_type": "stream",
     "text": [
      "Epoch = 120, 1 - val_loss = 0.9096640632152557\n",
      "\n",
      "\n"
     ]
    },
    {
     "name": "stderr",
     "output_type": "stream",
     "text": [
      "100%|██████████| 748/748 [05:17<00:00,  2.35it/s]\n",
      "[2024-03-13 10:23:12,641]::269792397::DEBUG::Epoch = 121, 1 - train_loss = 0.955791119834717\n"
     ]
    },
    {
     "name": "stdout",
     "output_type": "stream",
     "text": [
      "Epoch = 121, 1 - train_loss = 0.955791119834717\n"
     ]
    },
    {
     "name": "stderr",
     "output_type": "stream",
     "text": [
      "100%|██████████| 250/250 [00:34<00:00,  7.27it/s]\n",
      "[2024-03-13 10:23:47,022]::269792397::DEBUG::Epoch = 121, 1 - valid_loss = 0.9093098080158234\n"
     ]
    },
    {
     "name": "stdout",
     "output_type": "stream",
     "text": [
      "Epoch = 121, 1 - val_loss = 0.9093098080158234\n",
      "\n",
      "\n"
     ]
    },
    {
     "name": "stderr",
     "output_type": "stream",
     "text": [
      "100%|██████████| 748/748 [05:17<00:00,  2.35it/s]\n",
      "[2024-03-13 10:29:04,817]::269792397::DEBUG::Epoch = 122, 1 - train_loss = 0.9568586531966765\n"
     ]
    },
    {
     "name": "stdout",
     "output_type": "stream",
     "text": [
      "Epoch = 122, 1 - train_loss = 0.9568586531966765\n"
     ]
    },
    {
     "name": "stderr",
     "output_type": "stream",
     "text": [
      "100%|██████████| 250/250 [00:34<00:00,  7.29it/s]\n",
      "[2024-03-13 10:29:39,096]::269792397::DEBUG::Epoch = 122, 1 - valid_loss = 0.9103203856498003\n"
     ]
    },
    {
     "name": "stdout",
     "output_type": "stream",
     "text": [
      "Epoch = 122, 1 - val_loss = 0.9103203856498003\n",
      "\n",
      "\n"
     ]
    },
    {
     "name": "stderr",
     "output_type": "stream",
     "text": [
      "100%|██████████| 748/748 [05:17<00:00,  2.36it/s]\n",
      "[2024-03-13 10:34:56,793]::269792397::DEBUG::Epoch = 123, 1 - train_loss = 0.9566205911074371\n"
     ]
    },
    {
     "name": "stdout",
     "output_type": "stream",
     "text": [
      "Epoch = 123, 1 - train_loss = 0.9566205911074371\n"
     ]
    },
    {
     "name": "stderr",
     "output_type": "stream",
     "text": [
      "100%|██████████| 250/250 [00:34<00:00,  7.32it/s]\n",
      "[2024-03-13 10:35:30,936]::269792397::DEBUG::Epoch = 123, 1 - valid_loss = 0.9111380891054869\n"
     ]
    },
    {
     "name": "stdout",
     "output_type": "stream",
     "text": [
      "Epoch = 123, 1 - val_loss = 0.9111380891054869\n",
      "\n",
      "\n"
     ]
    },
    {
     "name": "stderr",
     "output_type": "stream",
     "text": [
      "100%|██████████| 748/748 [05:17<00:00,  2.35it/s]\n",
      "[2024-03-13 10:40:48,997]::269792397::DEBUG::Epoch = 124, 1 - train_loss = 0.9570486043071882\n"
     ]
    },
    {
     "name": "stdout",
     "output_type": "stream",
     "text": [
      "Epoch = 124, 1 - train_loss = 0.9570486043071882\n"
     ]
    },
    {
     "name": "stderr",
     "output_type": "stream",
     "text": [
      "100%|██████████| 250/250 [00:33<00:00,  7.36it/s]\n",
      "[2024-03-13 10:41:22,981]::269792397::DEBUG::Epoch = 124, 1 - valid_loss = 0.9115336026698351\n"
     ]
    },
    {
     "name": "stdout",
     "output_type": "stream",
     "text": [
      "Epoch = 124, 1 - val_loss = 0.9115336026698351\n",
      "\n",
      "\n"
     ]
    },
    {
     "name": "stderr",
     "output_type": "stream",
     "text": [
      "100%|██████████| 748/748 [05:17<00:00,  2.35it/s]\n",
      "[2024-03-13 10:46:41,004]::269792397::DEBUG::Epoch = 125, 1 - train_loss = 0.9574152766801616\n"
     ]
    },
    {
     "name": "stdout",
     "output_type": "stream",
     "text": [
      "Epoch = 125, 1 - train_loss = 0.9574152766801616\n"
     ]
    },
    {
     "name": "stderr",
     "output_type": "stream",
     "text": [
      "100%|██████████| 250/250 [00:34<00:00,  7.33it/s]\n",
      "[2024-03-13 10:47:15,109]::269792397::DEBUG::Epoch = 125, 1 - valid_loss = 0.9118013701289892\n"
     ]
    },
    {
     "name": "stdout",
     "output_type": "stream",
     "text": [
      "Epoch = 125, 1 - val_loss = 0.9118013701289892\n",
      "\n",
      "\n"
     ]
    },
    {
     "name": "stderr",
     "output_type": "stream",
     "text": [
      "100%|██████████| 748/748 [05:17<00:00,  2.35it/s]\n",
      "[2024-03-13 10:52:32,987]::269792397::DEBUG::Epoch = 126, 1 - train_loss = 0.9572919460267506\n"
     ]
    },
    {
     "name": "stdout",
     "output_type": "stream",
     "text": [
      "Epoch = 126, 1 - train_loss = 0.9572919460267506\n"
     ]
    },
    {
     "name": "stderr",
     "output_type": "stream",
     "text": [
      "100%|██████████| 250/250 [00:33<00:00,  7.36it/s]\n",
      "[2024-03-13 10:53:06,960]::269792397::DEBUG::Epoch = 126, 1 - valid_loss = 0.9131910363137722\n"
     ]
    },
    {
     "name": "stdout",
     "output_type": "stream",
     "text": [
      "Epoch = 126, 1 - val_loss = 0.9131910363137722\n",
      "\n",
      "\n"
     ]
    },
    {
     "name": "stderr",
     "output_type": "stream",
     "text": [
      "100%|██████████| 748/748 [05:17<00:00,  2.35it/s]\n",
      "[2024-03-13 10:58:24,986]::269792397::DEBUG::Epoch = 127, 1 - train_loss = 0.9573190015924965\n"
     ]
    },
    {
     "name": "stdout",
     "output_type": "stream",
     "text": [
      "Epoch = 127, 1 - train_loss = 0.9573190015924965\n"
     ]
    },
    {
     "name": "stderr",
     "output_type": "stream",
     "text": [
      "100%|██████████| 250/250 [00:33<00:00,  7.41it/s]\n",
      "[2024-03-13 10:58:58,749]::269792397::DEBUG::Epoch = 127, 1 - valid_loss = 0.9114696214944125\n"
     ]
    },
    {
     "name": "stdout",
     "output_type": "stream",
     "text": [
      "Epoch = 127, 1 - val_loss = 0.9114696214944125\n",
      "\n",
      "\n"
     ]
    },
    {
     "name": "stderr",
     "output_type": "stream",
     "text": [
      "100%|██████████| 748/748 [05:17<00:00,  2.35it/s]\n",
      "[2024-03-13 11:04:16,773]::269792397::DEBUG::Epoch = 128, 1 - train_loss = 0.9577917494826058\n"
     ]
    },
    {
     "name": "stdout",
     "output_type": "stream",
     "text": [
      "Epoch = 128, 1 - train_loss = 0.9577917494826058\n"
     ]
    },
    {
     "name": "stderr",
     "output_type": "stream",
     "text": [
      "100%|██████████| 250/250 [00:34<00:00,  7.35it/s]\n",
      "[2024-03-13 11:04:50,796]::269792397::DEBUG::Epoch = 128, 1 - valid_loss = 0.9120272701382637\n"
     ]
    },
    {
     "name": "stdout",
     "output_type": "stream",
     "text": [
      "Epoch = 128, 1 - val_loss = 0.9120272701382637\n",
      "\n",
      "\n"
     ]
    },
    {
     "name": "stderr",
     "output_type": "stream",
     "text": [
      "100%|██████████| 748/748 [05:17<00:00,  2.35it/s]\n",
      "[2024-03-13 11:10:08,625]::269792397::DEBUG::Epoch = 129, 1 - train_loss = 0.9584092406660597\n"
     ]
    },
    {
     "name": "stdout",
     "output_type": "stream",
     "text": [
      "Epoch = 129, 1 - train_loss = 0.9584092406660597\n"
     ]
    },
    {
     "name": "stderr",
     "output_type": "stream",
     "text": [
      "100%|██████████| 250/250 [00:34<00:00,  7.30it/s]\n",
      "[2024-03-13 11:10:42,859]::269792397::DEBUG::Epoch = 129, 1 - valid_loss = 0.9129207891374826\n"
     ]
    },
    {
     "name": "stdout",
     "output_type": "stream",
     "text": [
      "Epoch = 129, 1 - val_loss = 0.9129207891374826\n",
      "\n",
      "\n"
     ]
    },
    {
     "name": "stderr",
     "output_type": "stream",
     "text": [
      "100%|██████████| 748/748 [05:17<00:00,  2.35it/s]\n",
      "[2024-03-13 11:16:01,029]::269792397::DEBUG::Epoch = 130, 1 - train_loss = 0.9583753518819969\n"
     ]
    },
    {
     "name": "stdout",
     "output_type": "stream",
     "text": [
      "Epoch = 130, 1 - train_loss = 0.9583753518819969\n"
     ]
    },
    {
     "name": "stderr",
     "output_type": "stream",
     "text": [
      "100%|██████████| 250/250 [00:33<00:00,  7.36it/s]\n",
      "[2024-03-13 11:16:35,028]::269792397::DEBUG::Epoch = 130, 1 - valid_loss = 0.9128255685567855\n"
     ]
    },
    {
     "name": "stdout",
     "output_type": "stream",
     "text": [
      "Epoch = 130, 1 - val_loss = 0.9128255685567855\n",
      "\n",
      "\n"
     ]
    },
    {
     "name": "stderr",
     "output_type": "stream",
     "text": [
      "100%|██████████| 748/748 [05:17<00:00,  2.35it/s]\n",
      "[2024-03-13 11:21:53,157]::269792397::DEBUG::Epoch = 131, 1 - train_loss = 0.9585693504158308\n"
     ]
    },
    {
     "name": "stdout",
     "output_type": "stream",
     "text": [
      "Epoch = 131, 1 - train_loss = 0.9585693504158308\n"
     ]
    },
    {
     "name": "stderr",
     "output_type": "stream",
     "text": [
      "100%|██████████| 250/250 [00:34<00:00,  7.34it/s]\n",
      "[2024-03-13 11:22:27,239]::269792397::DEBUG::Epoch = 131, 1 - valid_loss = 0.9127782803475857\n"
     ]
    },
    {
     "name": "stdout",
     "output_type": "stream",
     "text": [
      "Epoch = 131, 1 - val_loss = 0.9127782803475857\n",
      "\n",
      "\n"
     ]
    },
    {
     "name": "stderr",
     "output_type": "stream",
     "text": [
      "100%|██████████| 748/748 [05:17<00:00,  2.35it/s]\n",
      "[2024-03-13 11:27:45,289]::269792397::DEBUG::Epoch = 132, 1 - train_loss = 0.9587892799035591\n"
     ]
    },
    {
     "name": "stdout",
     "output_type": "stream",
     "text": [
      "Epoch = 132, 1 - train_loss = 0.9587892799035591\n"
     ]
    },
    {
     "name": "stderr",
     "output_type": "stream",
     "text": [
      "100%|██████████| 250/250 [00:33<00:00,  7.37it/s]\n",
      "[2024-03-13 11:28:19,227]::269792397::DEBUG::Epoch = 132, 1 - valid_loss = 0.9110094627737999\n"
     ]
    },
    {
     "name": "stdout",
     "output_type": "stream",
     "text": [
      "Epoch = 132, 1 - val_loss = 0.9110094627737999\n",
      "\n",
      "\n"
     ]
    },
    {
     "name": "stderr",
     "output_type": "stream",
     "text": [
      "100%|██████████| 748/748 [05:17<00:00,  2.35it/s]\n",
      "[2024-03-13 11:33:37,246]::269792397::DEBUG::Epoch = 133, 1 - train_loss = 0.9591477149425144\n"
     ]
    },
    {
     "name": "stdout",
     "output_type": "stream",
     "text": [
      "Epoch = 133, 1 - train_loss = 0.9591477149425144\n"
     ]
    },
    {
     "name": "stderr",
     "output_type": "stream",
     "text": [
      "100%|██████████| 250/250 [00:33<00:00,  7.38it/s]\n",
      "[2024-03-13 11:34:11,122]::269792397::DEBUG::Epoch = 133, 1 - valid_loss = 0.9120707434713841\n"
     ]
    },
    {
     "name": "stdout",
     "output_type": "stream",
     "text": [
      "Epoch = 133, 1 - val_loss = 0.9120707434713841\n",
      "\n",
      "\n"
     ]
    },
    {
     "name": "stderr",
     "output_type": "stream",
     "text": [
      "100%|██████████| 748/748 [05:17<00:00,  2.35it/s]\n",
      "[2024-03-13 11:39:28,928]::269792397::DEBUG::Epoch = 134, 1 - train_loss = 0.9583386399329984\n"
     ]
    },
    {
     "name": "stdout",
     "output_type": "stream",
     "text": [
      "Epoch = 134, 1 - train_loss = 0.9583386399329984\n"
     ]
    },
    {
     "name": "stderr",
     "output_type": "stream",
     "text": [
      "100%|██████████| 250/250 [00:34<00:00,  7.32it/s]\n",
      "[2024-03-13 11:40:03,090]::269792397::DEBUG::Epoch = 134, 1 - valid_loss = 0.912032392218709\n"
     ]
    },
    {
     "name": "stdout",
     "output_type": "stream",
     "text": [
      "Epoch = 134, 1 - val_loss = 0.912032392218709\n",
      "\n",
      "\n"
     ]
    },
    {
     "name": "stderr",
     "output_type": "stream",
     "text": [
      "100%|██████████| 748/748 [05:17<00:00,  2.36it/s]\n",
      "[2024-03-13 11:45:20,756]::269792397::DEBUG::Epoch = 135, 1 - train_loss = 0.9590842433019795\n"
     ]
    },
    {
     "name": "stdout",
     "output_type": "stream",
     "text": [
      "Epoch = 135, 1 - train_loss = 0.9590842433019795\n"
     ]
    },
    {
     "name": "stderr",
     "output_type": "stream",
     "text": [
      "100%|██████████| 250/250 [00:33<00:00,  7.36it/s]\n",
      "[2024-03-13 11:45:54,710]::269792397::DEBUG::Epoch = 135, 1 - valid_loss = 0.9114011049270629\n"
     ]
    },
    {
     "name": "stdout",
     "output_type": "stream",
     "text": [
      "Epoch = 135, 1 - val_loss = 0.9114011049270629\n",
      "\n",
      "\n"
     ]
    },
    {
     "name": "stderr",
     "output_type": "stream",
     "text": [
      "100%|██████████| 748/748 [05:17<00:00,  2.36it/s]\n",
      "[2024-03-13 11:51:12,483]::269792397::DEBUG::Epoch = 136, 1 - train_loss = 0.9598607395820439\n"
     ]
    },
    {
     "name": "stdout",
     "output_type": "stream",
     "text": [
      "Epoch = 136, 1 - train_loss = 0.9598607395820439\n"
     ]
    },
    {
     "name": "stderr",
     "output_type": "stream",
     "text": [
      "100%|██████████| 250/250 [00:34<00:00,  7.32it/s]\n",
      "[2024-03-13 11:51:46,644]::269792397::DEBUG::Epoch = 136, 1 - valid_loss = 0.9127742969989776\n"
     ]
    },
    {
     "name": "stdout",
     "output_type": "stream",
     "text": [
      "Epoch = 136, 1 - val_loss = 0.9127742969989776\n",
      "\n",
      "\n"
     ]
    },
    {
     "name": "stderr",
     "output_type": "stream",
     "text": [
      "100%|██████████| 748/748 [05:17<00:00,  2.36it/s]\n",
      "[2024-03-13 11:57:03,897]::269792397::DEBUG::Epoch = 137, 1 - train_loss = 0.9594422736713155\n"
     ]
    },
    {
     "name": "stdout",
     "output_type": "stream",
     "text": [
      "Epoch = 137, 1 - train_loss = 0.9594422736713155\n"
     ]
    },
    {
     "name": "stderr",
     "output_type": "stream",
     "text": [
      "100%|██████████| 250/250 [00:34<00:00,  7.34it/s]\n",
      "[2024-03-13 11:57:37,950]::269792397::DEBUG::Epoch = 137, 1 - valid_loss = 0.9120872912108898\n"
     ]
    },
    {
     "name": "stdout",
     "output_type": "stream",
     "text": [
      "Epoch = 137, 1 - val_loss = 0.9120872912108898\n",
      "\n",
      "\n"
     ]
    },
    {
     "name": "stderr",
     "output_type": "stream",
     "text": [
      "100%|██████████| 748/748 [05:18<00:00,  2.35it/s]\n",
      "[2024-03-13 12:02:56,140]::269792397::DEBUG::Epoch = 138, 1 - train_loss = 0.960079193140136\n"
     ]
    },
    {
     "name": "stdout",
     "output_type": "stream",
     "text": [
      "Epoch = 138, 1 - train_loss = 0.960079193140136\n"
     ]
    },
    {
     "name": "stderr",
     "output_type": "stream",
     "text": [
      "100%|██████████| 250/250 [00:34<00:00,  7.33it/s]\n",
      "[2024-03-13 12:03:30,256]::269792397::DEBUG::Epoch = 138, 1 - valid_loss = 0.9134093639105558\n"
     ]
    },
    {
     "name": "stdout",
     "output_type": "stream",
     "text": [
      "Epoch = 138, 1 - val_loss = 0.9134093639105558\n",
      "\n",
      "\n"
     ]
    },
    {
     "name": "stderr",
     "output_type": "stream",
     "text": [
      "100%|██████████| 748/748 [05:17<00:00,  2.36it/s]\n",
      "[2024-03-13 12:08:47,716]::269792397::DEBUG::Epoch = 139, 1 - train_loss = 0.9601215451213725\n"
     ]
    },
    {
     "name": "stdout",
     "output_type": "stream",
     "text": [
      "Epoch = 139, 1 - train_loss = 0.9601215451213725\n"
     ]
    },
    {
     "name": "stderr",
     "output_type": "stream",
     "text": [
      "100%|██████████| 250/250 [00:34<00:00,  7.27it/s]\n",
      "[2024-03-13 12:09:22,093]::269792397::DEBUG::Epoch = 139, 1 - valid_loss = 0.912050600528717\n"
     ]
    },
    {
     "name": "stdout",
     "output_type": "stream",
     "text": [
      "Epoch = 139, 1 - val_loss = 0.912050600528717\n",
      "\n",
      "\n"
     ]
    },
    {
     "name": "stderr",
     "output_type": "stream",
     "text": [
      "100%|██████████| 748/748 [05:17<00:00,  2.36it/s]\n",
      "[2024-03-13 12:14:39,866]::269792397::DEBUG::Epoch = 140, 1 - train_loss = 0.9605070000071139\n"
     ]
    },
    {
     "name": "stdout",
     "output_type": "stream",
     "text": [
      "Epoch = 140, 1 - train_loss = 0.9605070000071139\n"
     ]
    },
    {
     "name": "stderr",
     "output_type": "stream",
     "text": [
      "100%|██████████| 250/250 [00:34<00:00,  7.31it/s]\n",
      "[2024-03-13 12:15:14,091]::269792397::DEBUG::Epoch = 140, 1 - valid_loss = 0.913123510286212\n"
     ]
    },
    {
     "name": "stdout",
     "output_type": "stream",
     "text": [
      "Epoch = 140, 1 - val_loss = 0.913123510286212\n",
      "\n",
      "\n"
     ]
    },
    {
     "name": "stderr",
     "output_type": "stream",
     "text": [
      " 85%|████████▌ | 639/748 [04:31<00:45,  2.37it/s]"
     ]
    }
   ],
   "source": [
    "torch.set_printoptions(profile=\"full\")\n",
    "\n",
    "trainingEpoch_loss = []\n",
    "validationEpoch_loss = []\n",
    "\n",
    "for i in range(start_epoch,epochs):\n",
    "    train_avg_loss = 0\n",
    "    val_avg_loss = 0\n",
    "    \n",
    "    model.train()\n",
    "    for fullshot_data, label_data in tqdm(train_dataloader):\n",
    "        if len(fullshot_data) != batchsz:\n",
    "            continue\n",
    "        # full shot\n",
    "        fullshot_data = rearrange(fullshot_data, 'b d h w c -> b c d h w')\n",
    "        fullshot_data = fullshot_data.to(device)\n",
    "\n",
    "        # label\n",
    "        label_data = reduce(label_data,'b c d -> b c', 'max')\n",
    "        label_data = label_data.to(device)\n",
    "        \n",
    "        # 학습\n",
    "        optimizer.zero_grad()\n",
    "        hypothesis = model(fullshot_data)\n",
    "\n",
    "        loss = criterion(hypothesis, label_data)\n",
    "        \n",
    "        loss.backward()\n",
    "        optimizer.step()\n",
    "        \n",
    "        train_avg_loss += loss.item()\n",
    "    train_avg_loss=train_avg_loss/len(train_dataloader)\n",
    "    trainingEpoch_loss.append(train_avg_loss)\n",
    "    print('Epoch = {}, 1 - train_loss = {}'.format(i+1,(1 - train_avg_loss)))\n",
    "    logger.debug('Epoch = {}, 1 - train_loss = {}'.format(i+1,(1 - train_avg_loss)))\n",
    "\n",
    "    \n",
    "    \n",
    "    with torch.no_grad():\n",
    "        model.eval()\n",
    "        for fullshot_data, label_data in tqdm(val_dataloader):\n",
    "            if len(fullshot_data) != batchsz:\n",
    "                continue\n",
    "            \n",
    "            # full shot\n",
    "            fullshot_data = rearrange(fullshot_data, 'b d h w c -> b c d h w')\n",
    "            fullshot_data = fullshot_data.to(device)\n",
    "\n",
    "            # label\n",
    "            label_data = reduce(label_data,'b c d -> b c', 'max')\n",
    "            label_data = label_data.to(device)\n",
    "                \n",
    "            hypothesis = model(fullshot_data)\n",
    "            \n",
    "            val_loss = criterion(hypothesis, label_data)\n",
    "            val_avg_loss += val_loss.item()\n",
    "            \n",
    "        val_avg_loss=val_avg_loss/len(val_dataloader)\n",
    "        validationEpoch_loss.append(val_avg_loss)\n",
    "    print('Epoch = {}, 1 - val_loss = {}'.format(i+1,(1 - val_avg_loss)))\n",
    "    logger.debug('Epoch = {}, 1 - valid_loss = {}'.format(i+1,(1-val_avg_loss)))\n",
    "    print('\\n')\n",
    "\n",
    "    start_epoch+=1\n",
    "    # if i%50 == 0:        \n",
    "    #     torch.save({\n",
    "    #         'epoch': i+1,\n",
    "    #         'model': model.state_dict(),\n",
    "    #         'optimizer': optimizer.state_dict(),\n",
    "    #     }, save_model_file_path.format('model',start_epoch,'pth'))\n",
    "    \n",
    "    torch.cuda.empty_cache()\n",
    "    gc.collect()"
   ]
  },
  {
   "cell_type": "code",
   "execution_count": null,
   "metadata": {},
   "outputs": [],
   "source": []
  }
 ],
 "metadata": {
  "kernelspec": {
   "display_name": "kw",
   "language": "python",
   "name": "python3"
  },
  "language_info": {
   "codemirror_mode": {
    "name": "ipython",
    "version": 3
   },
   "file_extension": ".py",
   "mimetype": "text/x-python",
   "name": "python",
   "nbconvert_exporter": "python",
   "pygments_lexer": "ipython3",
   "version": "3.10.11"
  }
 },
 "nbformat": 4,
 "nbformat_minor": 2
}
